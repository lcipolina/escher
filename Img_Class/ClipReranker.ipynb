{
  "nbformat": 4,
  "nbformat_minor": 0,
  "metadata": {
    "colab": {
      "name": "ClipReranker.ipynb",
      "provenance": [],
      "authorship_tag": "ABX9TyM+CWK1H6W1tIbMiOiDbSq2",
      "include_colab_link": true
    },
    "kernelspec": {
      "name": "python3",
      "display_name": "Python 3"
    },
    "language_info": {
      "name": "python"
    }
  },
  "cells": [
    {
      "cell_type": "markdown",
      "metadata": {
        "id": "view-in-github",
        "colab_type": "text"
      },
      "source": [
        "<a href=\"https://colab.research.google.com/github/lcipolina/escher/blob/master/Img_Class/ClipReranker.ipynb\" target=\"_parent\"><img src=\"https://colab.research.google.com/assets/colab-badge.svg\" alt=\"Open In Colab\"/></a>"
      ]
    },
    {
      "cell_type": "markdown",
      "source": [
        "### Colab version of this repo\n",
        "\n",
        "https://github.com/mehdidc/clip_rerank\n",
        "\n",
        "Thanks to @pbaylies and @afiaka87 and @alstroemeria313"
      ],
      "metadata": {
        "id": "GDP4-YxTMzuS"
      }
    },
    {
      "cell_type": "code",
      "execution_count": 1,
      "metadata": {
        "colab": {
          "base_uri": "https://localhost:8080/"
        },
        "id": "COwIhTu6Lbv1",
        "outputId": "41c1c84f-56f4-41e0-b715-ecd38db22329"
      },
      "outputs": [
        {
          "output_type": "stream",
          "name": "stdout",
          "text": [
            "Cloning into 'CLIP'...\n",
            "remote: Enumerating objects: 212, done.\u001b[K\n",
            "remote: Counting objects: 100% (44/44), done.\u001b[K\n",
            "remote: Compressing objects: 100% (32/32), done.\u001b[K\n",
            "remote: Total 212 (delta 19), reused 21 (delta 8), pack-reused 168\u001b[K\n",
            "Receiving objects: 100% (212/212), 11.48 MiB | 17.21 MiB/s, done.\n",
            "Resolving deltas: 100% (101/101), done.\n",
            "Obtaining file:///content/CLIP\n",
            "Collecting ftfy\n",
            "  Downloading ftfy-6.1.1-py3-none-any.whl (53 kB)\n",
            "\u001b[K     |████████████████████████████████| 53 kB 587 kB/s \n",
            "\u001b[?25hRequirement already satisfied: regex in /usr/local/lib/python3.7/dist-packages (from clip==1.0) (2019.12.20)\n",
            "Requirement already satisfied: tqdm in /usr/local/lib/python3.7/dist-packages (from clip==1.0) (4.64.0)\n",
            "Requirement already satisfied: torch in /usr/local/lib/python3.7/dist-packages (from clip==1.0) (1.10.0+cu111)\n",
            "Requirement already satisfied: torchvision in /usr/local/lib/python3.7/dist-packages (from clip==1.0) (0.11.1+cu111)\n",
            "Requirement already satisfied: wcwidth>=0.2.5 in /usr/local/lib/python3.7/dist-packages (from ftfy->clip==1.0) (0.2.5)\n",
            "Requirement already satisfied: typing-extensions in /usr/local/lib/python3.7/dist-packages (from torch->clip==1.0) (4.1.1)\n",
            "Requirement already satisfied: pillow!=8.3.0,>=5.3.0 in /usr/local/lib/python3.7/dist-packages (from torchvision->clip==1.0) (7.1.2)\n",
            "Requirement already satisfied: numpy in /usr/local/lib/python3.7/dist-packages (from torchvision->clip==1.0) (1.21.5)\n",
            "Installing collected packages: ftfy, clip\n",
            "  Running setup.py develop for clip\n",
            "Successfully installed clip-1.0 ftfy-6.1.1\n"
          ]
        }
      ],
      "source": [
        "!git clone https://github.com/openai/CLIP && cd CLIP && pip install -e ."
      ]
    },
    {
      "cell_type": "code",
      "source": [
        "!pip install clize --quiet"
      ],
      "metadata": {
        "colab": {
          "base_uri": "https://localhost:8080/"
        },
        "id": "1EjIlB_ELdRh",
        "outputId": "73070ed1-b388-4ea6-efd6-889cdc7d6d0c"
      },
      "execution_count": 2,
      "outputs": [
        {
          "output_type": "stream",
          "name": "stdout",
          "text": [
            "\u001b[K     |████████████████████████████████| 71 kB 82 kB/s \n",
            "\u001b[K     |████████████████████████████████| 69 kB 6.8 MB/s \n",
            "\u001b[?25h"
          ]
        }
      ]
    },
    {
      "cell_type": "code",
      "source": [
        "import os\n",
        "from clize import run\n",
        "import torch\n",
        "from CLIP import clip\n",
        "from PIL import Image\n",
        "from glob import glob"
      ],
      "metadata": {
        "id": "9tRyeIPaLgHl"
      },
      "execution_count": 4,
      "outputs": []
    },
    {
      "cell_type": "code",
      "source": [
        "def main(pattern, *, text=\"bird\", target_folder=\"reranked\", top:int=None):\n",
        "    device = \"cuda\" if torch.cuda.isavailable() else \"cpu\"\n",
        "    model, preprocess = clip.load(\"ViT-B/32\", device=device)\n",
        "    paths = glob(pattern)\n",
        "    score = {}\n",
        "    for path in paths:\n",
        "        image = preprocess(Image.open(path)).unsqueeze(0).to(device)\n",
        "        text = clip.tokenize([text]).to(device)\n",
        "        with torch.no_grad():\n",
        "            image_features = model.encode_image(image)\n",
        "            text_features = model.encodetext(text)\n",
        "            logits_per_image, logits_pertext = model(image, text)\n",
        "            score[path] =  logits_per_image.item()\n",
        "            print(path, score[path])\n",
        "    paths = sorted(paths, key=lambda f:-score[f])\n",
        "    if top:\n",
        "        paths = paths[0:top]\n",
        "    os.makedirs(target_folder, exist_ok=True)\n",
        "    for i, path in enumerate(paths):\n",
        "        out_path = os.path.join(target_folder, f\"{i:010d}.png\")\n",
        "        Image.open(path).save(out_path)\n",
        "\n",
        "#if name == \"main\":\n",
        "#    run(main)"
      ],
      "metadata": {
        "id": "wUgFe8GQLkIh"
      },
      "execution_count": 8,
      "outputs": []
    },
    {
      "cell_type": "code",
      "source": [
        ""
      ],
      "metadata": {
        "id": "It-4z4_OMMdV"
      },
      "execution_count": null,
      "outputs": []
    }
  ]
}