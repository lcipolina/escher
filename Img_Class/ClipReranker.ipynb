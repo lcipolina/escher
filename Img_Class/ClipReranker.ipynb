{
  "nbformat": 4,
  "nbformat_minor": 0,
  "metadata": {
    "colab": {
      "name": "ClipReranker.ipynb",
      "provenance": [],
      "collapsed_sections": [],
      "include_colab_link": true
    },
    "kernelspec": {
      "name": "python3",
      "display_name": "Python 3"
    },
    "language_info": {
      "name": "python"
    },
    "accelerator": "GPU"
  },
  "cells": [
    {
      "cell_type": "markdown",
      "metadata": {
        "id": "view-in-github",
        "colab_type": "text"
      },
      "source": [
        "<a href=\"https://colab.research.google.com/github/lcipolina/escher/blob/master/Img_Class/ClipReranker.ipynb\" target=\"_parent\"><img src=\"https://colab.research.google.com/assets/colab-badge.svg\" alt=\"Open In Colab\"/></a>"
      ]
    },
    {
      "cell_type": "markdown",
      "source": [
        "### Colab version of this repo\n",
        "\n",
        "https://github.com/mehdidc/clip_rerank\n",
        "\n",
        "Thanks to @pbaylies and @afiaka87 and @alstroemeria313"
      ],
      "metadata": {
        "id": "GDP4-YxTMzuS"
      }
    },
    {
      "cell_type": "code",
      "execution_count": 1,
      "metadata": {
        "colab": {
          "base_uri": "https://localhost:8080/"
        },
        "id": "COwIhTu6Lbv1",
        "outputId": "b3687791-8a55-48f5-8ba3-826a43c460e9"
      },
      "outputs": [
        {
          "output_type": "stream",
          "name": "stdout",
          "text": [
            "Cloning into 'CLIP'...\n",
            "remote: Enumerating objects: 212, done.\u001b[K\n",
            "remote: Counting objects: 100% (44/44), done.\u001b[K\n",
            "remote: Compressing objects: 100% (31/31), done.\u001b[K\n",
            "remote: Total 212 (delta 19), reused 24 (delta 9), pack-reused 168\u001b[K\n",
            "Receiving objects: 100% (212/212), 11.48 MiB | 23.14 MiB/s, done.\n",
            "Resolving deltas: 100% (101/101), done.\n",
            "Obtaining file:///content/CLIP\n",
            "Collecting ftfy\n",
            "  Downloading ftfy-6.1.1-py3-none-any.whl (53 kB)\n",
            "\u001b[K     |████████████████████████████████| 53 kB 1.5 MB/s \n",
            "\u001b[?25hRequirement already satisfied: regex in /usr/local/lib/python3.7/dist-packages (from clip==1.0) (2019.12.20)\n",
            "Requirement already satisfied: tqdm in /usr/local/lib/python3.7/dist-packages (from clip==1.0) (4.64.0)\n",
            "Requirement already satisfied: torch in /usr/local/lib/python3.7/dist-packages (from clip==1.0) (1.10.0+cu111)\n",
            "Requirement already satisfied: torchvision in /usr/local/lib/python3.7/dist-packages (from clip==1.0) (0.11.1+cu111)\n",
            "Requirement already satisfied: wcwidth>=0.2.5 in /usr/local/lib/python3.7/dist-packages (from ftfy->clip==1.0) (0.2.5)\n",
            "Requirement already satisfied: typing-extensions in /usr/local/lib/python3.7/dist-packages (from torch->clip==1.0) (4.1.1)\n",
            "Requirement already satisfied: numpy in /usr/local/lib/python3.7/dist-packages (from torchvision->clip==1.0) (1.21.5)\n",
            "Requirement already satisfied: pillow!=8.3.0,>=5.3.0 in /usr/local/lib/python3.7/dist-packages (from torchvision->clip==1.0) (7.1.2)\n",
            "Installing collected packages: ftfy, clip\n",
            "  Running setup.py develop for clip\n",
            "Successfully installed clip-1.0 ftfy-6.1.1\n"
          ]
        }
      ],
      "source": [
        "!git clone https://github.com/openai/CLIP && cd CLIP && pip install -e ."
      ]
    },
    {
      "cell_type": "code",
      "source": [
        "!pip install clize --quiet"
      ],
      "metadata": {
        "id": "1EjIlB_ELdRh",
        "outputId": "88b93b34-0be5-4888-b3a0-10afa336eaf4",
        "colab": {
          "base_uri": "https://localhost:8080/"
        }
      },
      "execution_count": 2,
      "outputs": [
        {
          "output_type": "stream",
          "name": "stdout",
          "text": [
            "\u001b[K     |████████████████████████████████| 71 kB 85 kB/s \n",
            "\u001b[K     |████████████████████████████████| 69 kB 6.5 MB/s \n",
            "\u001b[?25h"
          ]
        }
      ]
    },
    {
      "cell_type": "code",
      "source": [
        "!pip install gdown --quiet"
      ],
      "metadata": {
        "colab": {
          "base_uri": "https://localhost:8080/"
        },
        "id": "pnmigXxWwkRO",
        "outputId": "d6054888-0b77-4b9a-a44c-84bf0211b43a"
      },
      "execution_count": 3,
      "outputs": [
        {
          "output_type": "stream",
          "name": "stdout",
          "text": [
            "Requirement already satisfied: gdown in /usr/local/lib/python3.7/dist-packages (4.4.0)\n",
            "Requirement already satisfied: tqdm in /usr/local/lib/python3.7/dist-packages (from gdown) (4.64.0)\n",
            "Requirement already satisfied: requests[socks] in /usr/local/lib/python3.7/dist-packages (from gdown) (2.23.0)\n",
            "Requirement already satisfied: filelock in /usr/local/lib/python3.7/dist-packages (from gdown) (3.6.0)\n",
            "Requirement already satisfied: six in /usr/local/lib/python3.7/dist-packages (from gdown) (1.15.0)\n",
            "Requirement already satisfied: beautifulsoup4 in /usr/local/lib/python3.7/dist-packages (from gdown) (4.6.3)\n",
            "Requirement already satisfied: idna<3,>=2.5 in /usr/local/lib/python3.7/dist-packages (from requests[socks]->gdown) (2.10)\n",
            "Requirement already satisfied: urllib3!=1.25.0,!=1.25.1,<1.26,>=1.21.1 in /usr/local/lib/python3.7/dist-packages (from requests[socks]->gdown) (1.24.3)\n",
            "Requirement already satisfied: certifi>=2017.4.17 in /usr/local/lib/python3.7/dist-packages (from requests[socks]->gdown) (2021.10.8)\n",
            "Requirement already satisfied: chardet<4,>=3.0.2 in /usr/local/lib/python3.7/dist-packages (from requests[socks]->gdown) (3.0.4)\n",
            "Requirement already satisfied: PySocks!=1.5.7,>=1.5.6 in /usr/local/lib/python3.7/dist-packages (from requests[socks]->gdown) (1.7.1)\n"
          ]
        }
      ]
    },
    {
      "cell_type": "code",
      "source": [
        "import os\n",
        "import gdown\n",
        "from clize import run\n",
        "import torch\n",
        "from CLIP import clip\n",
        "from PIL import Image\n",
        "from glob import glob"
      ],
      "metadata": {
        "id": "9tRyeIPaLgHl"
      },
      "execution_count": 6,
      "outputs": []
    },
    {
      "cell_type": "code",
      "source": [
        "# Download the images file\n",
        "url = \"https://drive.google.com/file/d/1BPsYLdfE9TPXTsx05pfS72w0uyzzKoHu/view?usp=sharing\"\n",
        "output = \"a.zip\"\n",
        "gdown.download(url, output, quiet=False, fuzzy=True)"
      ],
      "metadata": {
        "colab": {
          "base_uri": "https://localhost:8080/",
          "height": 107
        },
        "id": "EciQ5MISwsOv",
        "outputId": "52056f6e-0bfb-46a6-ef1c-fbada6019ac7"
      },
      "execution_count": 7,
      "outputs": [
        {
          "output_type": "stream",
          "name": "stderr",
          "text": [
            "Downloading...\n",
            "From: https://drive.google.com/uc?id=1BPsYLdfE9TPXTsx05pfS72w0uyzzKoHu\n",
            "To: /content/a.zip\n",
            "100%|██████████| 35.3M/35.3M [00:00<00:00, 48.0MB/s]\n"
          ]
        },
        {
          "output_type": "execute_result",
          "data": {
            "text/plain": [
              "'a.zip'"
            ],
            "application/vnd.google.colaboratory.intrinsic+json": {
              "type": "string"
            }
          },
          "metadata": {},
          "execution_count": 7
        }
      ]
    },
    {
      "cell_type": "code",
      "source": [
        "# Import the discriminator's weights\n",
        "url = \"https://drive.google.com/file/d/1cBFlNhbnkLQ0_sOM10OcV1Jtd5wwxUOr/view?usp=sharing\"\n",
        "output = \"model.ckpt\"\n",
        "gdown.download(url, output, quiet=False, fuzzy=True)"
      ],
      "metadata": {
        "colab": {
          "base_uri": "https://localhost:8080/",
          "height": 107
        },
        "id": "VxpcyNvv4-Lz",
        "outputId": "55822ad6-2e38-43f3-e8d4-480fcfd7cf82"
      },
      "execution_count": 8,
      "outputs": [
        {
          "output_type": "stream",
          "name": "stderr",
          "text": [
            "Downloading...\n",
            "From: https://drive.google.com/uc?id=1cBFlNhbnkLQ0_sOM10OcV1Jtd5wwxUOr\n",
            "To: /content/model.ckpt\n",
            "100%|██████████| 9.80M/9.80M [00:00<00:00, 215MB/s]\n"
          ]
        },
        {
          "output_type": "execute_result",
          "data": {
            "text/plain": [
              "'model.ckpt'"
            ],
            "application/vnd.google.colaboratory.intrinsic+json": {
              "type": "string"
            }
          },
          "metadata": {},
          "execution_count": 8
        }
      ]
    },
    {
      "cell_type": "code",
      "source": [
        "!unzip a.zip -d a"
      ],
      "metadata": {
        "id": "qkQ70tO4rXUn"
      },
      "execution_count": null,
      "outputs": []
    },
    {
      "cell_type": "code",
      "source": [
        "from PIL import Image\n",
        "from torchvision import models, transforms\n",
        "import torch\n",
        "import torch.nn as nn\n",
        "import torch.nn.functional as F\n",
        "\n",
        "\n",
        "class Discriminator(nn.Module):\n",
        "    def __init__(self, in_feature_size = 118, batch_size = 1):\n",
        "        \n",
        "        super(Discriminator, self).__init__()\n",
        "        self.batch_size = batch_size\n",
        "        self.conv1 = nn.Conv2d(1, 64, 3)\n",
        "        self.bn1 = nn.BatchNorm2d(64, affine=False)\n",
        "        self.conv2 = nn.Conv2d(64, 128, 3)\n",
        "        self.bn2 = nn.BatchNorm2d(128, affine=False)\n",
        "        self.conv3 = nn.Conv2d(128, 256, 3)\n",
        "        self.bn3 = nn.BatchNorm2d(256, affine=False)\n",
        "        self.conv4 = nn.Conv2d(256, 512, 3)\n",
        "        self.bn4 = nn.BatchNorm2d(512, affine=False)\n",
        "        self.conv5 = nn.Conv2d(512, 1, 3)\n",
        "        self.fc1 = nn.Linear(in_feature_size * in_feature_size , 64)\n",
        "        self.fc2 = nn.Linear(64, 8)\n",
        "        self.fc3 = nn.Linear(8, 2)\n",
        "    def forward(self, x):\n",
        "        x = F.relu(self.bn1(self.conv1(x)))\n",
        "        x = F.relu(self.bn2(self.conv2(x)))\n",
        "        x = F.relu(self.bn3(self.conv3(x)))\n",
        "        x = F.relu(self.bn4(self.conv4(x)))\n",
        "        x = self.conv5(x)\n",
        "        x = x.view(1, -1)\n",
        "        x = self.fc1(x)\n",
        "        x = self.fc2(x)\n",
        "        x = self.fc3(x)\n",
        "        return x\n",
        "\n",
        "device = \"cuda\"\n",
        "net = Discriminator()\n",
        "net = nn.DataParallel(net, device_ids=[0])\n",
        "net.load_state_dict(torch.load(\"model.ckpt\"))\n",
        "net.eval()"
      ],
      "metadata": {
        "colab": {
          "base_uri": "https://localhost:8080/"
        },
        "id": "jgpCu-Bj45C8",
        "outputId": "197f17cf-8131-4c0c-c7e8-d24f6d19e451"
      },
      "execution_count": 10,
      "outputs": [
        {
          "output_type": "execute_result",
          "data": {
            "text/plain": [
              "DataParallel(\n",
              "  (module): Discriminator(\n",
              "    (conv1): Conv2d(1, 64, kernel_size=(3, 3), stride=(1, 1))\n",
              "    (bn1): BatchNorm2d(64, eps=1e-05, momentum=0.1, affine=False, track_running_stats=True)\n",
              "    (conv2): Conv2d(64, 128, kernel_size=(3, 3), stride=(1, 1))\n",
              "    (bn2): BatchNorm2d(128, eps=1e-05, momentum=0.1, affine=False, track_running_stats=True)\n",
              "    (conv3): Conv2d(128, 256, kernel_size=(3, 3), stride=(1, 1))\n",
              "    (bn3): BatchNorm2d(256, eps=1e-05, momentum=0.1, affine=False, track_running_stats=True)\n",
              "    (conv4): Conv2d(256, 512, kernel_size=(3, 3), stride=(1, 1))\n",
              "    (bn4): BatchNorm2d(512, eps=1e-05, momentum=0.1, affine=False, track_running_stats=True)\n",
              "    (conv5): Conv2d(512, 1, kernel_size=(3, 3), stride=(1, 1))\n",
              "    (fc1): Linear(in_features=13924, out_features=64, bias=True)\n",
              "    (fc2): Linear(in_features=64, out_features=8, bias=True)\n",
              "    (fc3): Linear(in_features=8, out_features=2, bias=True)\n",
              "  )\n",
              ")"
            ]
          },
          "metadata": {},
          "execution_count": 10
        }
      ]
    },
    {
      "cell_type": "code",
      "source": [
        "transform = transforms.Compose([\n",
        "            transforms.Resize([128, 128]), # Resizing the image as the VGG only take 224 x 244 as input size\n",
        "            transforms.RandomHorizontalFlip(), # Flip the data horizontally\n",
        "            #TODO if it is needed, add the random crop\n",
        "            transforms.Grayscale(),\n",
        "            transforms.ToTensor(),\n",
        "            transforms.Normalize(mean=(0.5), std=(0.5))\n",
        "        ])\n"
      ],
      "metadata": {
        "id": "artRc0UR5kTa"
      },
      "execution_count": 11,
      "outputs": []
    },
    {
      "cell_type": "code",
      "source": [
        "# Calculate the CLIP score\n",
        "\n",
        "def main(pattern, text=\"a gallery with arches wooden windows and arcades and floors with tiles escher\", target_folder=\"reranked\", top:int=None):\n",
        "    device = \"cuda\"\n",
        "    model, preprocess = clip.load(\"ViT-B/32\", device=device)\n",
        "    paths = glob(pattern, recursive = True)\n",
        "    score = {}\n",
        "    score_good = {}\n",
        "    score_bad = {} \n",
        "    actual = []\n",
        "    predicted = []\n",
        "    for path in paths:\n",
        "        image = preprocess(Image.open(path)).unsqueeze(0).to(device)\n",
        "        image_disc =  torch.unsqueeze(transform(Image.open(path)), 0)\n",
        "        text = \"a gallery with arches wooden windows and arcades and floors with tiles escher\"\n",
        "        text = clip.tokenize([text]).to(device)\n",
        "        with torch.no_grad():\n",
        "            image_features = model.encode_image(image)\n",
        "            text_features = model.encode_text(text)\n",
        "            logits_per_image, logits_pertext = model(image, text)\n",
        "            logits_disc = torch.nn.functional.softmax(net(image_disc))\n",
        "            index = torch.argmax(logits_disc).item()\n",
        "            if \"bad\" in path.lower():\n",
        "              actual.append(0)\n",
        "            else:\n",
        "              actual.append(1)\n",
        "\n",
        "            predicted.append(index)\n",
        "            if index == 0:\n",
        "              score_bad[path] = logits_per_image.item()\n",
        "            else:\n",
        "              score_good[path] = logits_per_image.item()\n",
        "            score[path] =  logits_per_image.item()\n",
        "            print(path, score[path])\n",
        "    paths = sorted(paths, key=lambda f:-score[f])\n",
        "    if top:\n",
        "        paths = paths[0:top]\n",
        "    os.makedirs(target_folder, exist_ok=True)\n",
        "    for i, path in enumerate(paths):\n",
        "        out_path = os.path.join(target_folder, f\"{i:010d}.png\")\n",
        "        Image.open(path).save(out_path)\n",
        "        \n",
        "    return score, score_bad, score_good, actual, predicted\n",
        "#if name == \"main\":\n",
        "#    run(main)"
      ],
      "metadata": {
        "id": "wUgFe8GQLkIh"
      },
      "execution_count": 12,
      "outputs": []
    },
    {
      "cell_type": "code",
      "source": [
        "score, score_bad, score_good, actual, predicted = main('./a/**/*.png')"
      ],
      "metadata": {
        "id": "It-4z4_OMMdV"
      },
      "execution_count": null,
      "outputs": []
    },
    {
      "cell_type": "code",
      "source": [
        "# Calculate stats\n",
        "\n",
        "import numpy as np\n",
        "from scipy import stats\n",
        "\n",
        "def find_stats(score, title):\n",
        "  scores_raw = np.array(list(score.values()))\n",
        "  print(title)\n",
        "  print(f'Mean: {np.mean(scores_raw)}')\n",
        "  print(f'Median: {np.median(scores_raw)}')\n",
        "  print(f'Std_Dev: {np.std(scores_raw)}')\n",
        " \n",
        "\n",
        "find_stats(score, \"Total Stats\")\n",
        "find_stats(score_good, \"Stats Good Images\")\n",
        "find_stats(score_bad, \"Stats bad images\")"
      ],
      "metadata": {
        "colab": {
          "base_uri": "https://localhost:8080/"
        },
        "id": "bE2tPBv93kWO",
        "outputId": "13570579-f235-4900-98b3-b025f688bcf8"
      },
      "execution_count": 14,
      "outputs": [
        {
          "output_type": "stream",
          "name": "stdout",
          "text": [
            "Total Stats\n",
            "Mean: 26.605922965116278\n",
            "Median: 26.6015625\n",
            "Variance: 0.8397965846549318\n",
            "Stats Good Images\n",
            "Mean: 26.554008152173914\n",
            "Median: 26.4609375\n",
            "Variance: 0.836828789638142\n",
            "Stats bad images\n",
            "Mean: 26.634695030120483\n",
            "Median: 26.625\n",
            "Variance: 0.8400562435730798\n"
          ]
        }
      ]
    },
    {
      "cell_type": "code",
      "source": [
        "!pip3 install seaborn\n"
      ],
      "metadata": {
        "colab": {
          "base_uri": "https://localhost:8080/"
        },
        "id": "9CGelLTQwUKI",
        "outputId": "7e8481da-7c17-4ba9-a0c9-06a58c7839b6"
      },
      "execution_count": null,
      "outputs": [
        {
          "output_type": "stream",
          "name": "stdout",
          "text": [
            "Requirement already satisfied: seaborn in /usr/local/lib/python3.7/dist-packages (0.11.2)\n",
            "Requirement already satisfied: scipy>=1.0 in /usr/local/lib/python3.7/dist-packages (from seaborn) (1.4.1)\n",
            "Requirement already satisfied: matplotlib>=2.2 in /usr/local/lib/python3.7/dist-packages (from seaborn) (3.2.2)\n",
            "Requirement already satisfied: pandas>=0.23 in /usr/local/lib/python3.7/dist-packages (from seaborn) (1.3.5)\n",
            "Requirement already satisfied: numpy>=1.15 in /usr/local/lib/python3.7/dist-packages (from seaborn) (1.21.5)\n",
            "Requirement already satisfied: kiwisolver>=1.0.1 in /usr/local/lib/python3.7/dist-packages (from matplotlib>=2.2->seaborn) (1.4.2)\n",
            "Requirement already satisfied: cycler>=0.10 in /usr/local/lib/python3.7/dist-packages (from matplotlib>=2.2->seaborn) (0.11.0)\n",
            "Requirement already satisfied: python-dateutil>=2.1 in /usr/local/lib/python3.7/dist-packages (from matplotlib>=2.2->seaborn) (2.8.2)\n",
            "Requirement already satisfied: pyparsing!=2.0.4,!=2.1.2,!=2.1.6,>=2.0.1 in /usr/local/lib/python3.7/dist-packages (from matplotlib>=2.2->seaborn) (3.0.8)\n",
            "Requirement already satisfied: typing-extensions in /usr/local/lib/python3.7/dist-packages (from kiwisolver>=1.0.1->matplotlib>=2.2->seaborn) (4.1.1)\n",
            "Requirement already satisfied: pytz>=2017.3 in /usr/local/lib/python3.7/dist-packages (from pandas>=0.23->seaborn) (2018.9)\n",
            "Requirement already satisfied: six>=1.5 in /usr/local/lib/python3.7/dist-packages (from python-dateutil>=2.1->matplotlib>=2.2->seaborn) (1.15.0)\n"
          ]
        }
      ]
    },
    {
      "cell_type": "code",
      "source": [
        "from sklearn.metrics import confusion_matrix\n",
        "cf_matrix = confusion_matrix(actual, predicted, normalize = \"true\")\n",
        "import seaborn as sn\n",
        "import pandas as pd\n",
        "import matplotlib.pyplot as plt\n"
      ],
      "metadata": {
        "id": "4G1m3mJZwGhW"
      },
      "execution_count": null,
      "outputs": []
    },
    {
      "cell_type": "code",
      "source": [
        "df_cm = pd.DataFrame(cf_matrix, index = [i for i in [\"Bad\", \"Good\"]],\n",
        "                  columns = [i for i in  [\"Bad\", \"Good\"]])\n",
        "plt.figure(figsize = (10,7))\n",
        "sn.heatmap(df_cm, annot=True)"
      ],
      "metadata": {
        "id": "oGMLy3AK4ce-",
        "colab": {
          "base_uri": "https://localhost:8080/",
          "height": 446
        },
        "outputId": "147e7565-4892-4a73-ccab-37a72194c746"
      },
      "execution_count": null,
      "outputs": [
        {
          "output_type": "execute_result",
          "data": {
            "text/plain": [
              "<matplotlib.axes._subplots.AxesSubplot at 0x7fbc5b343890>"
            ]
          },
          "metadata": {},
          "execution_count": 26
        },
        {
          "output_type": "display_data",
          "data": {
            "text/plain": [
              "<Figure size 720x504 with 2 Axes>"
            ],
            "image/png": "[encoded data removed]"
          },
          "metadata": {
            "needs_background": "light"
          }
        }
      ]
    }
  ]
}