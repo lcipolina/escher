{
  "cells": [
    {
      "cell_type": "markdown",
      "metadata": {
        "id": "view-in-github",
        "colab_type": "text"
      },
      "source": [
        "<a href=\"https://colab.research.google.com/github/lcipolina/escher/blob/master/ML/GLIDE-inpaint-automatic_input.ipynb\" target=\"_parent\"><img src=\"https://colab.research.google.com/assets/colab-badge.svg\" alt=\"Open In Colab\"/></a>"
      ]
    },
    {
      "cell_type": "markdown",
      "source": [
        "# GLIDE MODEL\n",
        "\n",
        "Official notebook here:\n",
        "\n",
        "https://github.com/openai/glide-text2im/blob/main/notebooks/inpaint.ipynb\n"
      ],
      "metadata": {
        "id": "l32jHBsDu0Td"
      }
    },
    {
      "cell_type": "code",
      "execution_count": 1,
      "metadata": {
        "id": "eB6WRAByi2X6",
        "outputId": "a618afc8-7ea3-4d55-cdc7-6eb3609bdb7e",
        "colab": {
          "base_uri": "https://localhost:8080/"
        }
      },
      "outputs": [
        {
          "output_type": "stream",
          "name": "stdout",
          "text": [
            "\u001b[?25l\r\u001b[K     |██████▏                         | 10 kB 28.6 MB/s eta 0:00:01\r\u001b[K     |████████████▍                   | 20 kB 14.6 MB/s eta 0:00:01\r\u001b[K     |██████████████████▌             | 30 kB 8.5 MB/s eta 0:00:01\r\u001b[K     |████████████████████████▊       | 40 kB 4.4 MB/s eta 0:00:01\r\u001b[K     |██████████████████████████████▉ | 51 kB 5.0 MB/s eta 0:00:01\r\u001b[K     |████████████████████████████████| 53 kB 1.5 MB/s \n",
            "\u001b[?25h  Building wheel for glide-text2im (setup.py) ... \u001b[?25l\u001b[?25hdone\n"
          ]
        }
      ],
      "source": [
        "# Run this line in Colab to install the package if it is\n",
        "# not already installed.\n",
        "!pip install git+https://github.com/openai/glide-text2im --quiet"
      ]
    },
    {
      "cell_type": "code",
      "execution_count": 2,
      "metadata": {
        "id": "-8pq7_1ti2X7"
      },
      "outputs": [],
      "source": [
        "#Imports\n",
        "from typing import Tuple\n",
        "from IPython.display import display\n",
        "from PIL import Image\n",
        "import numpy as np\n",
        "import torch as th\n",
        "import torch.nn.functional as F\n",
        "\n",
        "from glide_text2im.download import load_checkpoint\n",
        "from glide_text2im.model_creation import (\n",
        "    create_model_and_diffusion,\n",
        "    model_and_diffusion_defaults,\n",
        "    model_and_diffusion_defaults_upsampler\n",
        ")"
      ]
    },
    {
      "cell_type": "code",
      "execution_count": null,
      "metadata": {
        "id": "m-99T-ddi2X8"
      },
      "outputs": [],
      "source": [
        "# This notebook supports both CPU and GPU.\n",
        "# On CPU, generating one sample may take on the order of 20 minutes.\n",
        "# On a GPU, it should be under a minute.\n",
        "\n",
        "#has_cuda = th.cuda.is_available()\n",
        "#device = th.device('cpu' if not has_cuda else 'cuda')\n",
        "#print(f\"Running on {device}\")"
      ]
    },
    {
      "cell_type": "code",
      "execution_count": 3,
      "metadata": {
        "id": "3si29reji2X9",
        "colab": {
          "base_uri": "https://localhost:8080/",
          "height": 67,
          "referenced_widgets": [
            "9596b4df2f48427e888cb470246977d4",
            "c0f1abcb017448cf94cb67e937ba476f",
            "6fc898980d8a4041be47ccb4c8f16b87",
            "cc91bba211344208ab8b276f87f04fa9",
            "bed514c86658417badba2dbf2b3c6de9",
            "357d86d698754267b298f0a3ed875d81",
            "d8bd781b473042218d87acb051e8c218",
            "0f89643783e4420e820e0efeb6c6e485",
            "215a6a8d53084cce9f12c5d8e0a766ac",
            "f17bb0d6da5f48a4a97cadf2bc48531f",
            "f80c264f42c049068310bfa7e7d0ab8e"
          ]
        },
        "outputId": "cce8a08f-3fd4-4b3c-e62d-883d5f893668"
      },
      "outputs": [
        {
          "output_type": "display_data",
          "data": {
            "text/plain": [
              "  0%|          | 0.00/1.54G [00:00<?, ?iB/s]"
            ],
            "application/vnd.jupyter.widget-view+json": {
              "version_major": 2,
              "version_minor": 0,
              "model_id": "9596b4df2f48427e888cb470246977d4"
            }
          },
          "metadata": {}
        },
        {
          "output_type": "stream",
          "name": "stdout",
          "text": [
            "total base parameters 385037638\n"
          ]
        }
      ],
      "source": [
        "# Create base model.\n",
        "\n",
        "has_cuda = th.cuda.is_available()\n",
        "device = th.device('cpu' if not has_cuda else 'cuda')\n",
        "\n",
        "options = model_and_diffusion_defaults()\n",
        "options['inpaint'] = True\n",
        "options['use_fp16'] = has_cuda\n",
        "options['timestep_respacing'] = '100' # use 100 diffusion steps for fast sampling\n",
        "\n",
        "model, diffusion = create_model_and_diffusion(**options)\n",
        "model.eval()\n",
        "if has_cuda:\n",
        "    model.convert_to_fp16()\n",
        "model.to(device)\n",
        "model.load_state_dict(load_checkpoint('base-inpaint', device))\n",
        "print('total base parameters', sum(x.numel() for x in model.parameters()))"
      ]
    },
    {
      "cell_type": "code",
      "execution_count": 4,
      "metadata": {
        "id": "GXeLKtLsi2X-",
        "colab": {
          "base_uri": "https://localhost:8080/",
          "height": 67,
          "referenced_widgets": [
            "5fd0bb3fd62641fe9696edd123d1c3dc",
            "1027922c29bf4e5da7fdac1694cd08f0",
            "274f9ffbad2b404b8b38ac66fec37fcf",
            "ce881a12de3644109babb955dc8d1f37",
            "d581fce913a346829180b7019da7c7cc",
            "c4f7c0919fef421b8a85c38ffd2cdccc",
            "6a9da19942b049d4a93bddfa1b6464c8",
            "6d8170810bfe412781d92c94660a4b2a",
            "6ab0bd190a3147ab9914fae145a2a283",
            "c6b56074c6e7472b9677777a05e9bf4d",
            "6b2062f8b64040b9ae0f18aa782dfcd1"
          ]
        },
        "outputId": "7e2756bb-94f9-41e9-83b1-a368ac6ea63c"
      },
      "outputs": [
        {
          "output_type": "display_data",
          "data": {
            "text/plain": [
              "  0%|          | 0.00/1.59G [00:00<?, ?iB/s]"
            ],
            "application/vnd.jupyter.widget-view+json": {
              "version_major": 2,
              "version_minor": 0,
              "model_id": "5fd0bb3fd62641fe9696edd123d1c3dc"
            }
          },
          "metadata": {}
        },
        {
          "output_type": "stream",
          "name": "stdout",
          "text": [
            "total upsampler parameters 398368198\n"
          ]
        }
      ],
      "source": [
        "# Create upsampler model.\n",
        "\n",
        "options_up = model_and_diffusion_defaults_upsampler()\n",
        "options_up['inpaint'] = True\n",
        "options_up['use_fp16'] = has_cuda\n",
        "options_up['timestep_respacing'] = 'fast27' # use 27 diffusion steps for very fast sampling\n",
        "model_up, diffusion_up = create_model_and_diffusion(**options_up)\n",
        "model_up.eval()\n",
        "if has_cuda:\n",
        "    model_up.convert_to_fp16()\n",
        "model_up.to(device)\n",
        "model_up.load_state_dict(load_checkpoint('upsample-inpaint', device))\n",
        "print('total upsampler parameters', sum(x.numel() for x in model_up.parameters()))"
      ]
    },
    {
      "cell_type": "code",
      "source": [
        "# Function to display a batch of images inline.\n",
        "def show_images(batch: th.Tensor):\n",
        "    \"\"\" Display a batch of images inline. \"\"\"\n",
        "    scaled = ((batch + 1)*127.5).round().clamp(0,255).to(th.uint8).cpu()\n",
        "    reshaped = scaled.permute(2, 0, 3, 1).reshape([batch.shape[2], -1, 3])\n",
        "    img = Image.fromarray(reshaped.numpy())\n",
        "    display(img)\n",
        "\n",
        "\n",
        "# Function to save image\n",
        "from google.colab import files\n",
        "from datetime import datetime\n",
        "\n",
        "\n",
        "def save_images(batch: th.Tensor, name = 'output', batch_size =9):\n",
        "    \"\"\" Takes a batch of images and downloads them. \"\"\"\n",
        "    timeStamp = datetime.now().strftime('%m_%d_%Y_%H_%M_%S')\n",
        "    scaled = ((batch + 1)*127.5).round().clamp(0,255).to(th.uint8).cpu()\n",
        "    reshaped = scaled.permute(2, 0, 3, 1).reshape([batch.shape[2], -1, 3])\n",
        "    img = Image.fromarray(reshaped.numpy())\n",
        "    img.save('out_lst.png') #save images to local folder    \n",
        "\n",
        "    # Save multiple files and download them\n",
        "    batch_size = batch.size()[0]\n",
        "    Img = np.asarray(Image.open('out_lst.png')) #open image as array\n",
        "    M = Img.shape[0]  #height given by the model\n",
        "    N = Img.shape[1]//batch_size\n",
        "    tiles_lst = [Img[x:x+M,y:y+N] for x in range(0,Img.shape[0],M) for y in range(0,Img.shape[1],N)]\n",
        "    i = 0\n",
        "    for ele in tiles_lst:  \n",
        "        cv2.imwrite('out_'+str(i)+'-'+timeStamp+'.png',ele)\n",
        "        files.download('out_'+str(i)+'-'+timeStamp+'.png') # Download to computer  \n",
        "        i +=1\n",
        "\n",
        "# Function to convert an image into a multi-dimentional array.\n",
        "def read_image(path: str, size: int = 256) -> Tuple[th.Tensor, th.Tensor]:\n",
        "    pil_img = Image.open(path).convert('RGB')\n",
        "    pil_img = pil_img.resize((size, size), resample=Image.BICUBIC)\n",
        "    img = np.array(pil_img)\n",
        "    return th.from_numpy(img)[None].permute(0, 3, 1, 2).float() / 127.5 - 1   \n",
        "\n",
        "\n",
        "# Function to read mask and convert to correct dimensions\n",
        "def read_mask(path: str, size: int = 256) -> Tuple[th.Tensor, th.Tensor]:\n",
        "    pil_img = Image.open(path).convert('RGB')\n",
        "    pil_img = pil_img.resize((size, size), resample=Image.BICUBIC)\n",
        "    img = np.array(pil_img)\n",
        "    tup = th.from_numpy(img)[None].permute(0,3, 1, 2).float() / 127.5 - 1\n",
        "    tup, _ = th.max(tup, 1, keepdim=True)\n",
        "    return (tup == -1) * 1     "
      ],
      "metadata": {
        "id": "utUVsb5wp_Di"
      },
      "execution_count": 5,
      "outputs": []
    },
    {
      "cell_type": "markdown",
      "source": [
        "Upload the source image to inpaint.\n",
        "\n",
        "Rename it uploaded _image.jpg"
      ],
      "metadata": {
        "id": "b1xJqUb_zGKz"
      }
    },
    {
      "cell_type": "code",
      "source": [
        "#from google.colab import files\n",
        "#uploaded = files.upload()\n",
        "# Get the name of uploaded image:\n",
        "#for key in uploaded.keys():\n",
        "#  uploaded_image = key"
      ],
      "metadata": {
        "id": "6Q-sppKty_zP"
      },
      "execution_count": null,
      "outputs": []
    },
    {
      "cell_type": "code",
      "source": [
        "source = 'https://raw.githubusercontent.com/lcipolina/art/main/img/BnW_manhattan.jpg'\n",
        "!wget $source --quiet -O \"uploaded_image.jpg\" \n",
        "\n",
        "# Get the name of uploaded image:\n",
        "uploaded_image = \"uploaded_image.jpg\" "
      ],
      "metadata": {
        "id": "IK2G_htQ_beP"
      },
      "execution_count": 31,
      "outputs": []
    },
    {
      "cell_type": "code",
      "source": [
        "# Source the image we are inpainting\n",
        "source_image_256 = read_image(uploaded_image, size=256)\n",
        "source_image_64 = read_image(uploaded_image, size=64)"
      ],
      "metadata": {
        "id": "AIKfdAyZ1yxm"
      },
      "execution_count": 32,
      "outputs": []
    },
    {
      "cell_type": "markdown",
      "source": [
        "### Create the mask and display the source image with the mask on top of it."
      ],
      "metadata": {
        "id": "bNjFDu_SzsVk"
      }
    },
    {
      "cell_type": "markdown",
      "source": [
        "The Following Cell needs to be run each time you want to redraw and save the mask,  If the cell is not running then the save button will not do anything"
      ],
      "metadata": {
        "id": "bcfHOMPe0MOJ"
      }
    },
    {
      "cell_type": "markdown",
      "source": [
        "Choose pencil width"
      ],
      "metadata": {
        "id": "2EPccAHVPC3J"
      }
    },
    {
      "cell_type": "markdown",
      "source": [
        "Mask drawing function"
      ],
      "metadata": {
        "id": "HwTKIk0OHyoz"
      }
    },
    {
      "cell_type": "code",
      "source": [
        "uploaded = files.upload()\n",
        "# Get the name of uploaded image:\n",
        "for key in uploaded.keys():\n",
        "    mask = key\n"
      ],
      "metadata": {
        "id": "MVlmVkYBNzst"
      },
      "execution_count": null,
      "outputs": []
    },
    {
      "cell_type": "code",
      "source": [
        "import base64, os\n",
        "import cv2\n",
        "\n",
        "#convert input image to np array\n",
        "img = cv2.imread(uploaded_image)\n",
        "image64 = base64.b64encode(open(uploaded_image, 'rb').read()) #encoding images as text, this is a trick to manipulate the image better.\n",
        "image64 = image64.decode('utf-8')\n",
        "\n",
        "#pencil_width = (width/100)*img.shape[1]  #sets width of brush\n",
        "#draw(image64, w=img.shape[1], h=img.shape[0], line_width=pencil_width)\n",
        "\n",
        "#convert input image to np array\n",
        "#img = cv2.imread(uploaded_image)\n",
        "#image64 = base64.b64encode(open(mask, 'rb').read()) #encoding images as text, this is a trick to manipulate the image better.\n",
        "#image64 = image64.decode('utf-8')\n"
      ],
      "metadata": {
        "id": "nvUZ3tqE7tZG"
      },
      "execution_count": null,
      "outputs": []
    },
    {
      "cell_type": "markdown",
      "source": [
        "Read and convert mask"
      ],
      "metadata": {
        "id": "wMVKas_zNEXC"
      }
    },
    {
      "cell_type": "code",
      "source": [
        "#Save the masked image and convert the mask\n",
        "#import matplotlib.pyplot as plt #it uses this garbage to read images and convert to arrays, instead of CV2, wrong choice of library\n",
        "#with_mask = np.array(plt.imread(\"mask.png\")[:,:,:3])\n",
        "#mask = (with_mask[:,:,0]==1)*(with_mask[:,:,1]==0)*(with_mask[:,:,2]==0)\n",
        "#plt.imsave(\"mask.png\",mask, cmap='gray') #save mask"
      ],
      "metadata": {
        "id": "O9RQum-RM4En"
      },
      "execution_count": null,
      "outputs": []
    },
    {
      "cell_type": "markdown",
      "source": [
        "Implement a form to set the values for the sampling parameters."
      ],
      "metadata": {
        "id": "SUeWB72h2XXU"
      }
    },
    {
      "cell_type": "code",
      "source": [
        "#@title Parameters\n",
        "prompt = \"building\" #@param {type: \"string\"}\n",
        "#@markdown This parameter determines the number of outputs\n",
        "batch_size =  9 #@param {type: \"number\"}\n",
        "\n",
        "#@markdown Guidance_scale is how much the text-conditioned part controls the model's output. If the outputs are pure noise at high resolution for example you can set it higher\n",
        "\n",
        "guidance_scale =   7#@param {type: \"number\"}\n",
        "\n",
        "#@markdown Tune this parameter to control the sharpness of 256x256 images.\n",
        "#@markdown <br>A value of 1.0 is sharper, but sometimes results in grainy artifacts.\n",
        "upsample_temp =  0.997#@param {type: \"number\"}\n",
        "#0.997\n",
        "\n",
        "# Source image we are inpainting\n",
        "source_image_256 = read_image(uploaded_image, size=256)\n",
        "source_image_64 = read_image(uploaded_image, size=64)\n",
        "\n",
        "# The mask should always be a boolean 64x64 mask, and then we\n",
        "# can upsample it for the second stage.\n",
        "source_mask_64 = read_mask('mask.png',64)\n",
        "source_mask_256 = read_mask('mask.png',256)\n",
        "\n",
        "# Visualize the image we are inpainting\n",
        "show_images(source_image_256 * source_mask_256)"
      ],
      "metadata": {
        "id": "OqzvRGX42Ol4"
      },
      "execution_count": null,
      "outputs": []
    },
    {
      "cell_type": "code",
      "source": [
        "def run(batch_size = 9,guidance_scale=5,upsample_temp =0.997 ,fixSeed = True,prompt = \"escher\"):\n",
        "\n",
        "  if fixSeed == True:\n",
        "     th.manual_seed(42)\n",
        "\n",
        "  ##############################\n",
        "  # Sample from the base model #\n",
        "  ##############################\n",
        "\n",
        "  # Create the text tokens to feed to the model.\n",
        "  tokens = model.tokenizer.encode(prompt)\n",
        "  tokens, mask = model.tokenizer.padded_tokens_and_mask(\n",
        "      tokens, options['text_ctx']\n",
        "  )\n",
        "\n",
        "  # Create the classifier-free guidance tokens (empty)\n",
        "  full_batch_size = batch_size * 2\n",
        "  uncond_tokens, uncond_mask = model.tokenizer.padded_tokens_and_mask(\n",
        "      [], options['text_ctx']\n",
        "  )\n",
        "\n",
        "  # Pack the tokens together into model kwargs.\n",
        "  model_kwargs = dict(\n",
        "      tokens=th.tensor(\n",
        "          [tokens] * batch_size + [uncond_tokens] * batch_size, device=device\n",
        "      ),\n",
        "      mask=th.tensor(\n",
        "          [mask] * batch_size + [uncond_mask] * batch_size,\n",
        "          dtype=th.bool,\n",
        "          device=device,\n",
        "      ),\n",
        "\n",
        "      # Masked inpainting image\n",
        "      inpaint_image=(source_image_64 * source_mask_64).repeat(full_batch_size, 1, 1, 1).to(device),\n",
        "      inpaint_mask=source_mask_64.repeat(full_batch_size, 1, 1, 1).to(device),\n",
        "  )\n",
        "\n",
        "  # Create an classifier-free guidance sampling function\n",
        "  def model_fn(x_t, ts, **kwargs):\n",
        "      half = x_t[: len(x_t) // 2]\n",
        "      combined = th.cat([half, half], dim=0)\n",
        "      model_out = model(combined, ts, **kwargs)\n",
        "      eps, rest = model_out[:, :3], model_out[:, 3:]\n",
        "      cond_eps, uncond_eps = th.split(eps, len(eps) // 2, dim=0)\n",
        "      half_eps = uncond_eps + guidance_scale * (cond_eps - uncond_eps)\n",
        "      eps = th.cat([half_eps, half_eps], dim=0)\n",
        "      return th.cat([eps, rest], dim=1)\n",
        "\n",
        "  def denoised_fn(x_start):\n",
        "      # Force the model to have the exact right x_start predictions\n",
        "      # for the part of the image which is known.\n",
        "      return (\n",
        "          x_start * (1 - model_kwargs['inpaint_mask'])\n",
        "          + model_kwargs['inpaint_image'] * model_kwargs['inpaint_mask']\n",
        "      )\n",
        "\n",
        "  # Sample from the base model.\n",
        "  model.del_cache()\n",
        "  samples = diffusion.p_sample_loop(\n",
        "      model_fn,\n",
        "      (full_batch_size, 3, options[\"image_size\"], options[\"image_size\"]),\n",
        "      device=device,\n",
        "      clip_denoised=True,\n",
        "      progress=True,\n",
        "      model_kwargs=model_kwargs,\n",
        "      cond_fn=None,\n",
        "      denoised_fn=denoised_fn,\n",
        "  )[:batch_size]\n",
        "  model.del_cache()\n",
        "\n",
        "  # Show the output\n",
        "  show_images(samples)\n",
        "\n",
        "  ##############################\n",
        "  # Upsample the 64x64 samples #\n",
        "  ##############################\n",
        "\n",
        "  tokens = model_up.tokenizer.encode(prompt)\n",
        "  tokens, mask = model_up.tokenizer.padded_tokens_and_mask(\n",
        "      tokens, options_up['text_ctx']\n",
        "  )\n",
        "\n",
        "  # Create the model conditioning dict.\n",
        "  model_kwargs = dict(\n",
        "      # Low-res image to upsample.\n",
        "      low_res=((samples+1)*127.5).round()/127.5 - 1,\n",
        "\n",
        "      # Text tokens\n",
        "      tokens=th.tensor(\n",
        "          [tokens] * batch_size, device=device\n",
        "      ),\n",
        "      mask=th.tensor(\n",
        "          [mask] * batch_size,\n",
        "          dtype=th.bool,\n",
        "          device=device,\n",
        "      ),\n",
        "\n",
        "      # Masked inpainting image.\n",
        "      inpaint_image=(source_image_256 * source_mask_256).repeat(batch_size, 1, 1, 1).to(device),\n",
        "      inpaint_mask=source_mask_256.repeat(batch_size, 1, 1, 1).to(device),\n",
        "  )\n",
        "\n",
        "  def denoised_fn(x_start):\n",
        "      # Force the model to have the exact right x_start predictions\n",
        "      # for the part of the image which is known.\n",
        "      return (\n",
        "          x_start * (1 - model_kwargs['inpaint_mask'])\n",
        "          + model_kwargs['inpaint_image'] * model_kwargs['inpaint_mask']\n",
        "      )\n",
        "\n",
        "  # Sample from the base model.\n",
        "  model_up.del_cache()\n",
        "  up_shape = (batch_size, 3, options_up[\"image_size\"], options_up[\"image_size\"])\n",
        "  up_samples = diffusion_up.p_sample_loop(\n",
        "      model_up,\n",
        "      up_shape,\n",
        "      noise=th.randn(up_shape, device=device) * upsample_temp,\n",
        "      device=device,\n",
        "      clip_denoised=True,\n",
        "      progress=True,\n",
        "      model_kwargs=model_kwargs,\n",
        "      cond_fn=None,\n",
        "      denoised_fn=denoised_fn,\n",
        "  )[:batch_size]\n",
        "  model_up.del_cache()\n",
        "\n",
        "  # Show output\n",
        "  print(\"Prompt used:\",prompt)\n",
        "  show_images(source_image_256)\n",
        "  show_images(source_image_256 * source_mask_256)\n",
        "  show_images(up_samples)\n",
        "  save_images(up_samples,batch_size = batch_size) #split and save to local folder\n",
        "  #files.download('mask.png')  #save the mask as it is a seed\n",
        "\n"
      ],
      "metadata": {
        "id": "el9x6XqUtPdI"
      },
      "execution_count": null,
      "outputs": []
    },
    {
      "cell_type": "code",
      "source": [
        "################\n",
        "#Run the model #\n",
        "################\n",
        "\n",
        "# Ablation on parameters\n",
        "text = \"building\" \n",
        "seed     = False #need it as false since we are doing 9x3 (for the saving issue)\n",
        "guidance = 30\n",
        "temp     = 0.997 # 0.997\n",
        "\n",
        "# Variables to handle Colab memory issues\n",
        "batch      = 9 #it only saves 9 at a time\n",
        "\n",
        "# Run the monster\n",
        "#for i in range(0,2): -> it clogs memory\n",
        "run(batch_size = batch,guidance_scale = guidance, upsample_temp  = temp,fixSeed = seed, prompt = text)\n"
      ],
      "metadata": {
        "id": "z_SfGghltqRH"
      },
      "execution_count": null,
      "outputs": []
    },
    {
      "cell_type": "markdown",
      "source": [
        "Tricks to fool the memory issue"
      ],
      "metadata": {
        "id": "MSHwtE6bJYSG"
      }
    },
    {
      "cell_type": "code",
      "source": [
        "# Delete saved files for peace of mind\n",
        "!rm -rf out*"
      ],
      "metadata": {
        "id": "p1QQ9E0UaReJ"
      },
      "execution_count": null,
      "outputs": []
    }
  ],
  "metadata": {
    "interpreter": {
      "hash": "e7d6e62d90e7e85f9a0faa7f0b1d576302d7ae6108e9fe361594f8e1c8b05781"
    },
    "kernelspec": {
      "display_name": "Python 3",
      "language": "python",
      "name": "python3"
    },
    "language_info": {
      "codemirror_mode": {
        "name": "ipython",
        "version": 3
      },
      "file_extension": ".py",
      "mimetype": "text/x-python",
      "name": "python",
      "nbconvert_exporter": "python",
      "pygments_lexer": "ipython3",
      "version": "3.7.3"
    },
    "accelerator": "GPU",
    "colab": {
      "name": "inpaint.ipynb",
      "provenance": [],
      "include_colab_link": true
    },
    "widgets": {
      "application/vnd.jupyter.widget-state+json": {
        "9596b4df2f48427e888cb470246977d4": {
          "model_module": "@jupyter-widgets/controls",
          "model_name": "HBoxModel",
          "model_module_version": "1.5.0",
          "state": {
            "_dom_classes": [],
            "_model_module": "@jupyter-widgets/controls",
            "_model_module_version": "1.5.0",
            "_model_name": "HBoxModel",
            "_view_count": null,
            "_view_module": "@jupyter-widgets/controls",
            "_view_module_version": "1.5.0",
            "_view_name": "HBoxView",
            "box_style": "",
            "children": [
              "IPY_MODEL_c0f1abcb017448cf94cb67e937ba476f",
              "IPY_MODEL_6fc898980d8a4041be47ccb4c8f16b87",
              "IPY_MODEL_cc91bba211344208ab8b276f87f04fa9"
            ],
            "layout": "IPY_MODEL_bed514c86658417badba2dbf2b3c6de9"
          }
        },
        "c0f1abcb017448cf94cb67e937ba476f": {
          "model_module": "@jupyter-widgets/controls",
          "model_name": "HTMLModel",
          "model_module_version": "1.5.0",
          "state": {
            "_dom_classes": [],
            "_model_module": "@jupyter-widgets/controls",
            "_model_module_version": "1.5.0",
            "_model_name": "HTMLModel",
            "_view_count": null,
            "_view_module": "@jupyter-widgets/controls",
            "_view_module_version": "1.5.0",
            "_view_name": "HTMLView",
            "description": "",
            "description_tooltip": null,
            "layout": "IPY_MODEL_357d86d698754267b298f0a3ed875d81",
            "placeholder": "​",
            "style": "IPY_MODEL_d8bd781b473042218d87acb051e8c218",
            "value": "100%"
          }
        },
        "6fc898980d8a4041be47ccb4c8f16b87": {
          "model_module": "@jupyter-widgets/controls",
          "model_name": "FloatProgressModel",
          "model_module_version": "1.5.0",
          "state": {
            "_dom_classes": [],
            "_model_module": "@jupyter-widgets/controls",
            "_model_module_version": "1.5.0",
            "_model_name": "FloatProgressModel",
            "_view_count": null,
            "_view_module": "@jupyter-widgets/controls",
            "_view_module_version": "1.5.0",
            "_view_name": "ProgressView",
            "bar_style": "success",
            "description": "",
            "description_tooltip": null,
            "layout": "IPY_MODEL_0f89643783e4420e820e0efeb6c6e485",
            "max": 1540394339,
            "min": 0,
            "orientation": "horizontal",
            "style": "IPY_MODEL_215a6a8d53084cce9f12c5d8e0a766ac",
            "value": 1540394339
          }
        },
        "cc91bba211344208ab8b276f87f04fa9": {
          "model_module": "@jupyter-widgets/controls",
          "model_name": "HTMLModel",
          "model_module_version": "1.5.0",
          "state": {
            "_dom_classes": [],
            "_model_module": "@jupyter-widgets/controls",
            "_model_module_version": "1.5.0",
            "_model_name": "HTMLModel",
            "_view_count": null,
            "_view_module": "@jupyter-widgets/controls",
            "_view_module_version": "1.5.0",
            "_view_name": "HTMLView",
            "description": "",
            "description_tooltip": null,
            "layout": "IPY_MODEL_f17bb0d6da5f48a4a97cadf2bc48531f",
            "placeholder": "​",
            "style": "IPY_MODEL_f80c264f42c049068310bfa7e7d0ab8e",
            "value": " 1.54G/1.54G [00:53&lt;00:00, 30.9MiB/s]"
          }
        },
        "bed514c86658417badba2dbf2b3c6de9": {
          "model_module": "@jupyter-widgets/base",
          "model_name": "LayoutModel",
          "model_module_version": "1.2.0",
          "state": {
            "_model_module": "@jupyter-widgets/base",
            "_model_module_version": "1.2.0",
            "_model_name": "LayoutModel",
            "_view_count": null,
            "_view_module": "@jupyter-widgets/base",
            "_view_module_version": "1.2.0",
            "_view_name": "LayoutView",
            "align_content": null,
            "align_items": null,
            "align_self": null,
            "border": null,
            "bottom": null,
            "display": null,
            "flex": null,
            "flex_flow": null,
            "grid_area": null,
            "grid_auto_columns": null,
            "grid_auto_flow": null,
            "grid_auto_rows": null,
            "grid_column": null,
            "grid_gap": null,
            "grid_row": null,
            "grid_template_areas": null,
            "grid_template_columns": null,
            "grid_template_rows": null,
            "height": null,
            "justify_content": null,
            "justify_items": null,
            "left": null,
            "margin": null,
            "max_height": null,
            "max_width": null,
            "min_height": null,
            "min_width": null,
            "object_fit": null,
            "object_position": null,
            "order": null,
            "overflow": null,
            "overflow_x": null,
            "overflow_y": null,
            "padding": null,
            "right": null,
            "top": null,
            "visibility": null,
            "width": null
          }
        },
        "357d86d698754267b298f0a3ed875d81": {
          "model_module": "@jupyter-widgets/base",
          "model_name": "LayoutModel",
          "model_module_version": "1.2.0",
          "state": {
            "_model_module": "@jupyter-widgets/base",
            "_model_module_version": "1.2.0",
            "_model_name": "LayoutModel",
            "_view_count": null,
            "_view_module": "@jupyter-widgets/base",
            "_view_module_version": "1.2.0",
            "_view_name": "LayoutView",
            "align_content": null,
            "align_items": null,
            "align_self": null,
            "border": null,
            "bottom": null,
            "display": null,
            "flex": null,
            "flex_flow": null,
            "grid_area": null,
            "grid_auto_columns": null,
            "grid_auto_flow": null,
            "grid_auto_rows": null,
            "grid_column": null,
            "grid_gap": null,
            "grid_row": null,
            "grid_template_areas": null,
            "grid_template_columns": null,
            "grid_template_rows": null,
            "height": null,
            "justify_content": null,
            "justify_items": null,
            "left": null,
            "margin": null,
            "max_height": null,
            "max_width": null,
            "min_height": null,
            "min_width": null,
            "object_fit": null,
            "object_position": null,
            "order": null,
            "overflow": null,
            "overflow_x": null,
            "overflow_y": null,
            "padding": null,
            "right": null,
            "top": null,
            "visibility": null,
            "width": null
          }
        },
        "d8bd781b473042218d87acb051e8c218": {
          "model_module": "@jupyter-widgets/controls",
          "model_name": "DescriptionStyleModel",
          "model_module_version": "1.5.0",
          "state": {
            "_model_module": "@jupyter-widgets/controls",
            "_model_module_version": "1.5.0",
            "_model_name": "DescriptionStyleModel",
            "_view_count": null,
            "_view_module": "@jupyter-widgets/base",
            "_view_module_version": "1.2.0",
            "_view_name": "StyleView",
            "description_width": ""
          }
        },
        "0f89643783e4420e820e0efeb6c6e485": {
          "model_module": "@jupyter-widgets/base",
          "model_name": "LayoutModel",
          "model_module_version": "1.2.0",
          "state": {
            "_model_module": "@jupyter-widgets/base",
            "_model_module_version": "1.2.0",
            "_model_name": "LayoutModel",
            "_view_count": null,
            "_view_module": "@jupyter-widgets/base",
            "_view_module_version": "1.2.0",
            "_view_name": "LayoutView",
            "align_content": null,
            "align_items": null,
            "align_self": null,
            "border": null,
            "bottom": null,
            "display": null,
            "flex": null,
            "flex_flow": null,
            "grid_area": null,
            "grid_auto_columns": null,
            "grid_auto_flow": null,
            "grid_auto_rows": null,
            "grid_column": null,
            "grid_gap": null,
            "grid_row": null,
            "grid_template_areas": null,
            "grid_template_columns": null,
            "grid_template_rows": null,
            "height": null,
            "justify_content": null,
            "justify_items": null,
            "left": null,
            "margin": null,
            "max_height": null,
            "max_width": null,
            "min_height": null,
            "min_width": null,
            "object_fit": null,
            "object_position": null,
            "order": null,
            "overflow": null,
            "overflow_x": null,
            "overflow_y": null,
            "padding": null,
            "right": null,
            "top": null,
            "visibility": null,
            "width": null
          }
        },
        "215a6a8d53084cce9f12c5d8e0a766ac": {
          "model_module": "@jupyter-widgets/controls",
          "model_name": "ProgressStyleModel",
          "model_module_version": "1.5.0",
          "state": {
            "_model_module": "@jupyter-widgets/controls",
            "_model_module_version": "1.5.0",
            "_model_name": "ProgressStyleModel",
            "_view_count": null,
            "_view_module": "@jupyter-widgets/base",
            "_view_module_version": "1.2.0",
            "_view_name": "StyleView",
            "bar_color": null,
            "description_width": ""
          }
        },
        "f17bb0d6da5f48a4a97cadf2bc48531f": {
          "model_module": "@jupyter-widgets/base",
          "model_name": "LayoutModel",
          "model_module_version": "1.2.0",
          "state": {
            "_model_module": "@jupyter-widgets/base",
            "_model_module_version": "1.2.0",
            "_model_name": "LayoutModel",
            "_view_count": null,
            "_view_module": "@jupyter-widgets/base",
            "_view_module_version": "1.2.0",
            "_view_name": "LayoutView",
            "align_content": null,
            "align_items": null,
            "align_self": null,
            "border": null,
            "bottom": null,
            "display": null,
            "flex": null,
            "flex_flow": null,
            "grid_area": null,
            "grid_auto_columns": null,
            "grid_auto_flow": null,
            "grid_auto_rows": null,
            "grid_column": null,
            "grid_gap": null,
            "grid_row": null,
            "grid_template_areas": null,
            "grid_template_columns": null,
            "grid_template_rows": null,
            "height": null,
            "justify_content": null,
            "justify_items": null,
            "left": null,
            "margin": null,
            "max_height": null,
            "max_width": null,
            "min_height": null,
            "min_width": null,
            "object_fit": null,
            "object_position": null,
            "order": null,
            "overflow": null,
            "overflow_x": null,
            "overflow_y": null,
            "padding": null,
            "right": null,
            "top": null,
            "visibility": null,
            "width": null
          }
        },
        "f80c264f42c049068310bfa7e7d0ab8e": {
          "model_module": "@jupyter-widgets/controls",
          "model_name": "DescriptionStyleModel",
          "model_module_version": "1.5.0",
          "state": {
            "_model_module": "@jupyter-widgets/controls",
            "_model_module_version": "1.5.0",
            "_model_name": "DescriptionStyleModel",
            "_view_count": null,
            "_view_module": "@jupyter-widgets/base",
            "_view_module_version": "1.2.0",
            "_view_name": "StyleView",
            "description_width": ""
          }
        },
        "5fd0bb3fd62641fe9696edd123d1c3dc": {
          "model_module": "@jupyter-widgets/controls",
          "model_name": "HBoxModel",
          "model_module_version": "1.5.0",
          "state": {
            "_dom_classes": [],
            "_model_module": "@jupyter-widgets/controls",
            "_model_module_version": "1.5.0",
            "_model_name": "HBoxModel",
            "_view_count": null,
            "_view_module": "@jupyter-widgets/controls",
            "_view_module_version": "1.5.0",
            "_view_name": "HBoxView",
            "box_style": "",
            "children": [
              "IPY_MODEL_1027922c29bf4e5da7fdac1694cd08f0",
              "IPY_MODEL_274f9ffbad2b404b8b38ac66fec37fcf",
              "IPY_MODEL_ce881a12de3644109babb955dc8d1f37"
            ],
            "layout": "IPY_MODEL_d581fce913a346829180b7019da7c7cc"
          }
        },
        "1027922c29bf4e5da7fdac1694cd08f0": {
          "model_module": "@jupyter-widgets/controls",
          "model_name": "HTMLModel",
          "model_module_version": "1.5.0",
          "state": {
            "_dom_classes": [],
            "_model_module": "@jupyter-widgets/controls",
            "_model_module_version": "1.5.0",
            "_model_name": "HTMLModel",
            "_view_count": null,
            "_view_module": "@jupyter-widgets/controls",
            "_view_module_version": "1.5.0",
            "_view_name": "HTMLView",
            "description": "",
            "description_tooltip": null,
            "layout": "IPY_MODEL_c4f7c0919fef421b8a85c38ffd2cdccc",
            "placeholder": "​",
            "style": "IPY_MODEL_6a9da19942b049d4a93bddfa1b6464c8",
            "value": "100%"
          }
        },
        "274f9ffbad2b404b8b38ac66fec37fcf": {
          "model_module": "@jupyter-widgets/controls",
          "model_name": "FloatProgressModel",
          "model_module_version": "1.5.0",
          "state": {
            "_dom_classes": [],
            "_model_module": "@jupyter-widgets/controls",
            "_model_module_version": "1.5.0",
            "_model_name": "FloatProgressModel",
            "_view_count": null,
            "_view_module": "@jupyter-widgets/controls",
            "_view_module_version": "1.5.0",
            "_view_name": "ProgressView",
            "bar_style": "success",
            "description": "",
            "description_tooltip": null,
            "layout": "IPY_MODEL_6d8170810bfe412781d92c94660a4b2a",
            "max": 1593721287,
            "min": 0,
            "orientation": "horizontal",
            "style": "IPY_MODEL_6ab0bd190a3147ab9914fae145a2a283",
            "value": 1593721287
          }
        },
        "ce881a12de3644109babb955dc8d1f37": {
          "model_module": "@jupyter-widgets/controls",
          "model_name": "HTMLModel",
          "model_module_version": "1.5.0",
          "state": {
            "_dom_classes": [],
            "_model_module": "@jupyter-widgets/controls",
            "_model_module_version": "1.5.0",
            "_model_name": "HTMLModel",
            "_view_count": null,
            "_view_module": "@jupyter-widgets/controls",
            "_view_module_version": "1.5.0",
            "_view_name": "HTMLView",
            "description": "",
            "description_tooltip": null,
            "layout": "IPY_MODEL_c6b56074c6e7472b9677777a05e9bf4d",
            "placeholder": "​",
            "style": "IPY_MODEL_6b2062f8b64040b9ae0f18aa782dfcd1",
            "value": " 1.59G/1.59G [00:54&lt;00:00, 23.4MiB/s]"
          }
        },
        "d581fce913a346829180b7019da7c7cc": {
          "model_module": "@jupyter-widgets/base",
          "model_name": "LayoutModel",
          "model_module_version": "1.2.0",
          "state": {
            "_model_module": "@jupyter-widgets/base",
            "_model_module_version": "1.2.0",
            "_model_name": "LayoutModel",
            "_view_count": null,
            "_view_module": "@jupyter-widgets/base",
            "_view_module_version": "1.2.0",
            "_view_name": "LayoutView",
            "align_content": null,
            "align_items": null,
            "align_self": null,
            "border": null,
            "bottom": null,
            "display": null,
            "flex": null,
            "flex_flow": null,
            "grid_area": null,
            "grid_auto_columns": null,
            "grid_auto_flow": null,
            "grid_auto_rows": null,
            "grid_column": null,
            "grid_gap": null,
            "grid_row": null,
            "grid_template_areas": null,
            "grid_template_columns": null,
            "grid_template_rows": null,
            "height": null,
            "justify_content": null,
            "justify_items": null,
            "left": null,
            "margin": null,
            "max_height": null,
            "max_width": null,
            "min_height": null,
            "min_width": null,
            "object_fit": null,
            "object_position": null,
            "order": null,
            "overflow": null,
            "overflow_x": null,
            "overflow_y": null,
            "padding": null,
            "right": null,
            "top": null,
            "visibility": null,
            "width": null
          }
        },
        "c4f7c0919fef421b8a85c38ffd2cdccc": {
          "model_module": "@jupyter-widgets/base",
          "model_name": "LayoutModel",
          "model_module_version": "1.2.0",
          "state": {
            "_model_module": "@jupyter-widgets/base",
            "_model_module_version": "1.2.0",
            "_model_name": "LayoutModel",
            "_view_count": null,
            "_view_module": "@jupyter-widgets/base",
            "_view_module_version": "1.2.0",
            "_view_name": "LayoutView",
            "align_content": null,
            "align_items": null,
            "align_self": null,
            "border": null,
            "bottom": null,
            "display": null,
            "flex": null,
            "flex_flow": null,
            "grid_area": null,
            "grid_auto_columns": null,
            "grid_auto_flow": null,
            "grid_auto_rows": null,
            "grid_column": null,
            "grid_gap": null,
            "grid_row": null,
            "grid_template_areas": null,
            "grid_template_columns": null,
            "grid_template_rows": null,
            "height": null,
            "justify_content": null,
            "justify_items": null,
            "left": null,
            "margin": null,
            "max_height": null,
            "max_width": null,
            "min_height": null,
            "min_width": null,
            "object_fit": null,
            "object_position": null,
            "order": null,
            "overflow": null,
            "overflow_x": null,
            "overflow_y": null,
            "padding": null,
            "right": null,
            "top": null,
            "visibility": null,
            "width": null
          }
        },
        "6a9da19942b049d4a93bddfa1b6464c8": {
          "model_module": "@jupyter-widgets/controls",
          "model_name": "DescriptionStyleModel",
          "model_module_version": "1.5.0",
          "state": {
            "_model_module": "@jupyter-widgets/controls",
            "_model_module_version": "1.5.0",
            "_model_name": "DescriptionStyleModel",
            "_view_count": null,
            "_view_module": "@jupyter-widgets/base",
            "_view_module_version": "1.2.0",
            "_view_name": "StyleView",
            "description_width": ""
          }
        },
        "6d8170810bfe412781d92c94660a4b2a": {
          "model_module": "@jupyter-widgets/base",
          "model_name": "LayoutModel",
          "model_module_version": "1.2.0",
          "state": {
            "_model_module": "@jupyter-widgets/base",
            "_model_module_version": "1.2.0",
            "_model_name": "LayoutModel",
            "_view_count": null,
            "_view_module": "@jupyter-widgets/base",
            "_view_module_version": "1.2.0",
            "_view_name": "LayoutView",
            "align_content": null,
            "align_items": null,
            "align_self": null,
            "border": null,
            "bottom": null,
            "display": null,
            "flex": null,
            "flex_flow": null,
            "grid_area": null,
            "grid_auto_columns": null,
            "grid_auto_flow": null,
            "grid_auto_rows": null,
            "grid_column": null,
            "grid_gap": null,
            "grid_row": null,
            "grid_template_areas": null,
            "grid_template_columns": null,
            "grid_template_rows": null,
            "height": null,
            "justify_content": null,
            "justify_items": null,
            "left": null,
            "margin": null,
            "max_height": null,
            "max_width": null,
            "min_height": null,
            "min_width": null,
            "object_fit": null,
            "object_position": null,
            "order": null,
            "overflow": null,
            "overflow_x": null,
            "overflow_y": null,
            "padding": null,
            "right": null,
            "top": null,
            "visibility": null,
            "width": null
          }
        },
        "6ab0bd190a3147ab9914fae145a2a283": {
          "model_module": "@jupyter-widgets/controls",
          "model_name": "ProgressStyleModel",
          "model_module_version": "1.5.0",
          "state": {
            "_model_module": "@jupyter-widgets/controls",
            "_model_module_version": "1.5.0",
            "_model_name": "ProgressStyleModel",
            "_view_count": null,
            "_view_module": "@jupyter-widgets/base",
            "_view_module_version": "1.2.0",
            "_view_name": "StyleView",
            "bar_color": null,
            "description_width": ""
          }
        },
        "c6b56074c6e7472b9677777a05e9bf4d": {
          "model_module": "@jupyter-widgets/base",
          "model_name": "LayoutModel",
          "model_module_version": "1.2.0",
          "state": {
            "_model_module": "@jupyter-widgets/base",
            "_model_module_version": "1.2.0",
            "_model_name": "LayoutModel",
            "_view_count": null,
            "_view_module": "@jupyter-widgets/base",
            "_view_module_version": "1.2.0",
            "_view_name": "LayoutView",
            "align_content": null,
            "align_items": null,
            "align_self": null,
            "border": null,
            "bottom": null,
            "display": null,
            "flex": null,
            "flex_flow": null,
            "grid_area": null,
            "grid_auto_columns": null,
            "grid_auto_flow": null,
            "grid_auto_rows": null,
            "grid_column": null,
            "grid_gap": null,
            "grid_row": null,
            "grid_template_areas": null,
            "grid_template_columns": null,
            "grid_template_rows": null,
            "height": null,
            "justify_content": null,
            "justify_items": null,
            "left": null,
            "margin": null,
            "max_height": null,
            "max_width": null,
            "min_height": null,
            "min_width": null,
            "object_fit": null,
            "object_position": null,
            "order": null,
            "overflow": null,
            "overflow_x": null,
            "overflow_y": null,
            "padding": null,
            "right": null,
            "top": null,
            "visibility": null,
            "width": null
          }
        },
        "6b2062f8b64040b9ae0f18aa782dfcd1": {
          "model_module": "@jupyter-widgets/controls",
          "model_name": "DescriptionStyleModel",
          "model_module_version": "1.5.0",
          "state": {
            "_model_module": "@jupyter-widgets/controls",
            "_model_module_version": "1.5.0",
            "_model_name": "DescriptionStyleModel",
            "_view_count": null,
            "_view_module": "@jupyter-widgets/base",
            "_view_module_version": "1.2.0",
            "_view_name": "StyleView",
            "description_width": ""
          }
        }
      }
    }
  },
  "nbformat": 4,
  "nbformat_minor": 0
}