{
  "nbformat": 4,
  "nbformat_minor": 0,
  "metadata": {
    "colab": {
      "name": " BSRGAN.ipynb",
      "provenance": [],
      "authorship_tag": "ABX9TyOmgs0nQguQ4wYZL6LqshUu",
      "include_colab_link": true
    },
    "kernelspec": {
      "name": "python3",
      "display_name": "Python 3"
    },
    "language_info": {
      "name": "python"
    }
  },
  "cells": [
    {
      "cell_type": "markdown",
      "metadata": {
        "id": "view-in-github",
        "colab_type": "text"
      },
      "source": [
        "<a href=\"https://colab.research.google.com/github/lcipolina/escher/blob/master/ML/BSRGAN.ipynb\" target=\"_parent\"><img src=\"https://colab.research.google.com/assets/colab-badge.svg\" alt=\"Open In Colab\"/></a>"
      ]
    },
    {
      "cell_type": "markdown",
      "source": [
        "# Informal Colab Implementation of BRSGAN\n",
        "\n",
        "https://github.com/cszn/BSRGAN"
      ],
      "metadata": {
        "id": "hqHbX9wYetrs"
      }
    },
    {
      "cell_type": "markdown",
      "source": [
        "Model Setup"
      ],
      "metadata": {
        "id": "KcVvhWoIe77W"
      }
    },
    {
      "cell_type": "code",
      "source": [
        "#Imports\n",
        "\n",
        "!pip install wget --quiet\n",
        "\n",
        "import wget\n",
        "import base64, os\n",
        "from IPython.display import HTML, Image\n",
        "from google.colab.output import eval_js\n",
        "from base64 import b64decode\n",
        "import matplotlib.pyplot as plt\n",
        "import numpy as np\n",
        "import shutil\n",
        "from shutil import copyfile\n",
        "import cv2\n",
        "from google.colab.patches import cv2_imshow"
      ],
      "metadata": {
        "colab": {
          "base_uri": "https://localhost:8080/"
        },
        "id": "kwWAW5GXjWBW",
        "outputId": "d2cea962-a5b1-4c79-9539-25d2c610ef86"
      },
      "execution_count": 2,
      "outputs": [
        {
          "output_type": "stream",
          "name": "stdout",
          "text": [
            "  Building wheel for wget (setup.py) ... \u001b[?25l\u001b[?25hdone\n"
          ]
        }
      ]
    },
    {
      "cell_type": "code",
      "execution_count": 1,
      "metadata": {
        "colab": {
          "base_uri": "https://localhost:8080/"
        },
        "id": "UvUQec_Xd0bg",
        "outputId": "2476e370-2dda-4d39-9465-6b422d1887a8"
      },
      "outputs": [
        {
          "output_type": "stream",
          "name": "stdout",
          "text": [
            "Cloning into 'KAIR'...\n",
            "remote: Enumerating objects: 1599, done.\u001b[K\n",
            "remote: Counting objects: 100% (667/667), done.\u001b[K\n",
            "remote: Compressing objects: 100% (575/575), done.\u001b[K\n",
            "remote: Total 1599 (delta 362), reused 216 (delta 85), pack-reused 932\u001b[K\n",
            "Receiving objects: 100% (1599/1599), 18.68 MiB | 23.07 MiB/s, done.\n",
            "Resolving deltas: 100% (920/920), done.\n"
          ]
        }
      ],
      "source": [
        "!git clone https://github.com/cszn/KAIR.git"
      ]
    },
    {
      "cell_type": "markdown",
      "source": [
        "\n",
        "Upload an image\n",
        "\n",
        "Predefined photo: uncomment any line\n",
        "\n",
        "Local file: leave the fname = None\n"
      ],
      "metadata": {
        "id": "oqF1aoikiv9C"
      }
    },
    {
      "cell_type": "code",
      "source": [
        "#fname = None\n",
        "fname = 'https://ic.pics.livejournal.com/mostovoy/28566193/1224276/1224276_original.jpg' # <-in the example\n",
        "# fname = 'https://raw.githubusercontent.com/senya-ashukha/senya-ashukha.github.io/master/images/1010286.jpeg'\n",
        "# fname = 'https://raw.githubusercontent.com/senya-ashukha/senya-ashukha.github.io/master/images/1010287.jpeg'\n",
        "# fname = \"https://raw.githubusercontent.com/senya-ashukha/senya-ashukha.github.io/master/images/alex.jpg\"\n",
        "\n",
        "if fname is None:\n",
        "  from google.colab import files\n",
        "  files = files.upload()\n",
        "  fname = list(files.keys())[0]\n",
        "else:\n",
        "  fname = wget.download(fname)\n",
        "\n",
        "\n"
      ],
      "metadata": {
        "id": "cGA22Egoe-vk"
      },
      "execution_count": 3,
      "outputs": []
    },
    {
      "cell_type": "code",
      "source": [
        "# Copy images to the trainsets/trainH folder\n",
        "src  = '/content'\n",
        "dest = '/content/KAIR/trainsets/trainH'\n",
        "shutil. copy ( src + '/'+ fname , dest ) #copy both files  "
      ],
      "metadata": {
        "colab": {
          "base_uri": "https://localhost:8080/",
          "height": 36
        },
        "id": "059W21aKjQLQ",
        "outputId": "f67526ff-fbc2-4bda-9cc1-229597ec8dbe"
      },
      "execution_count": 6,
      "outputs": [
        {
          "output_type": "execute_result",
          "data": {
            "application/vnd.google.colaboratory.intrinsic+json": {
              "type": "string"
            },
            "text/plain": [
              "'/content/KAIR/trainsets/trainH/1224276_original.jpg'"
            ]
          },
          "metadata": {},
          "execution_count": 6
        }
      ]
    }
  ]
}