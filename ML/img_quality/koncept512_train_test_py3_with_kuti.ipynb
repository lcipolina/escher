{
  "nbformat": 4,
  "nbformat_minor": 0,
  "metadata": {
    "kernelspec": {
      "name": "python3",
      "display_name": "Python 3"
    },
    "colab": {
      "name": "KonCept512 (kuti version)",
      "provenance": [],
      "collapsed_sections": [],
      "machine_shape": "hm",
      "include_colab_link": true
    },
    "accelerator": "GPU"
  },
  "cells": [
    {
      "cell_type": "markdown",
      "metadata": {
        "id": "view-in-github",
        "colab_type": "text"
      },
      "source": [
        "<a href=\"https://colab.research.google.com/github/lcipolina/escher/blob/master/ML/img_quality/koncept512_train_test_py3_with_kuti.ipynb\" target=\"_parent\"><img src=\"https://colab.research.google.com/assets/colab-badge.svg\" alt=\"Open In Colab\"/></a>"
      ]
    },
    {
      "cell_type": "markdown",
      "metadata": {
        "id": "XDdbdkexFk0t"
      },
      "source": [
        "### Install and load libraries"
      ]
    },
    {
      "cell_type": "code",
      "metadata": {
        "id": "sVxpvhKMLG2W"
      },
      "source": [
        "%%capture\n",
        "\n",
        "# Setup paths\n",
        "drive_mount = '/content/drive/'\n",
        "drive_root = drive_mount + 'My Drive/research/data/'  # persistent storage for dataset images\n",
        "data_root = '/content/koniq/'                         # library install path\n",
        "\n",
        "!pip install kuti\n",
        "!git clone https://github.com/subpic/koniq.git\n",
        "!pip install munch"
      ],
      "execution_count": 1,
      "outputs": []
    },
    {
      "cell_type": "code",
      "metadata": {
        "colab": {
          "base_uri": "https://localhost:8080/"
        },
        "id": "kRMraeLxftuh",
        "outputId": "86807fbe-9187-4dba-e0c7-0ee588aa776d"
      },
      "source": [
        "from kuti import model_helper as mh\n",
        "from kuti import applications as apps\n",
        "from kuti import tensor_ops as ops\n",
        "from kuti import generic as gen\n",
        "from kuti import image_utils as iu\n",
        "\n",
        "import pandas as pd, numpy as np, os\n",
        "from matplotlib import pyplot as plt\n",
        "from munch import Munch\n",
        "\n",
        "from google.colab import drive\n",
        "drive.mount(drive_mount)"
      ],
      "execution_count": 2,
      "outputs": [
        {
          "output_type": "stream",
          "name": "stdout",
          "text": [
            "Loaded Kuti\n",
            "Mounted at /content/drive/\n"
          ]
        }
      ]
    },
    {
      "cell_type": "markdown",
      "metadata": {
        "id": "fQntwgm6FBn0"
      },
      "source": [
        "### Setup KonIQ-10k dataset images\n",
        "Download images resized to 512x384 pixels (originals are 1024x768)"
      ]
    },
    {
      "cell_type": "code",
      "metadata": {
        "id": "KuZXHjjyXK2M"
      },
      "source": [
        "%%capture\n",
        "\n",
        "gen.make_dirs(drive_root+'koniq/')\n",
        "drive_image_path = drive_root+'koniq/koniq10k_512x384.zip'\n",
        "if not os.path.exists(drive_image_path):\n",
        "  !wget -O \"$drive_image_path\" \"http://datasets.vqa.mmsp-kn.de/archives/koniq10k_512x384.zip\"\n",
        "\n",
        "gen.make_dirs(data_root+'images/')\n",
        "data_images_path = data_root+'images/'\n",
        "!cp  \"$drive_image_path\" \"$data_images_path\"\n",
        "%cd $data_images_path\n",
        "!unzip -o koniq10k_512x384.zip\n",
        "%cd $data_root"
      ],
      "execution_count": 3,
      "outputs": []
    },
    {
      "cell_type": "markdown",
      "metadata": {
        "id": "xwy8XM54K_J8"
      },
      "source": [
        "### Define the KonCept512 model"
      ]
    },
    {
      "cell_type": "code",
      "metadata": {
        "id": "N2k21MsYK_KF",
        "colab": {
          "base_uri": "https://localhost:8080/"
        },
        "outputId": "af08e62f-8006-47d7-b2e6-8c02292b4182"
      },
      "source": [
        "from tensorflow.keras.models import Model\n",
        "\n",
        "ids = pd.read_csv(data_root + 'metadata/koniq10k_distributions_sets.csv')\n",
        "\n",
        "# Build scoring model\n",
        "base_model, preprocess_fn = apps.get_model_imagenet(apps.InceptionResNetV2)\n",
        "head = apps.fc_layers(base_model.output, name='fc', \n",
        "                      fc_sizes      = [2048, 1024, 256, 1], \n",
        "                      dropout_rates = [0.25, 0.25, 0.5, 0], \n",
        "                      batch_norm    = 2)    \n",
        "\n",
        "model = Model(inputs = base_model.input, outputs = head)\n",
        "\n",
        "# Parameters of the generator\n",
        "pre = lambda im: preprocess_fn(\n",
        "         iu.ImageAugmenter(im, remap=False).fliplr().result)\n",
        "gen_params = dict(batch_size  = 16,\n",
        "                  data_path   = data_root+'images/512x384/',\n",
        "                  process_fn  = pre, \n",
        "                  input_shape = (384,512,3),\n",
        "                  inputs      = ['image_name'],\n",
        "                  outputs     = ['MOS'])\n",
        "\n",
        "# Wrapper for the model, helps with training and testing\n",
        "helper = mh.ModelHelper(model, 'KonCept512', ids, \n",
        "                     loss='MSE', metrics=[\"MAE\", ops.plcc_tf],\n",
        "                     monitor_metric = 'val_loss', \n",
        "                     monitor_mode   = 'min', \n",
        "                     multiproc   = True, workers = 5,\n",
        "                     logs_root   = drive_root + 'logs/koniq',\n",
        "                     models_root = drive_root + 'models/koniq',\n",
        "                     gen_params  = gen_params)"
      ],
      "execution_count": 4,
      "outputs": [
        {
          "output_type": "stream",
          "name": "stdout",
          "text": [
            "Loading model InceptionResNetV2\n",
            "Downloading data from https://storage.googleapis.com/tensorflow/keras-applications/inception_resnet_v2/inception_resnet_v2_weights_tf_dim_ordering_tf_kernels_notop.h5\n",
            "219062272/219055592 [==============================] - 7s 0us/step\n",
            "219070464/219055592 [==============================] - 7s 0us/step\n"
          ]
        }
      ]
    },
    {
      "cell_type": "markdown",
      "metadata": {
        "id": "tP_AKK539udA"
      },
      "source": [
        "### Train it"
      ]
    },
    {
      "cell_type": "code",
      "metadata": {
        "id": "zDburTNbH2qT",
        "colab": {
          "base_uri": "https://localhost:8080/"
        },
        "outputId": "0dd80dbd-a6c5-4317-d9e1-7dbd417660f2"
      },
      "source": [
        "# do validation in memory\n",
        "valid_gen = helper.make_generator(ids[ids.set=='validation'], \n",
        "                                  batch_size = 16)\n",
        "\n",
        "helper.train(valid_gen=valid_gen, lr=1e-4, epochs=40)\n",
        "helper.load_model()\n",
        "helper.train(valid_gen=valid_gen, lr=1e-4/5, epochs=20)"
      ],
      "execution_count": null,
      "outputs": [
        {
          "output_type": "stream",
          "name": "stdout",
          "text": [
            "Training model: KonCept512/bsz:16 i:1[384,512,3] l:MSE o:1[1]\n"
          ]
        },
        {
          "output_type": "stream",
          "name": "stderr",
          "text": [
            "/usr/local/lib/python3.7/dist-packages/keras/engine/training.py:1972: UserWarning: `Model.fit_generator` is deprecated and will be removed in a future version. Please use `Model.fit`, which supports generators.\n",
            "  warnings.warn('`Model.fit_generator` is deprecated and '\n"
          ]
        },
        {
          "output_type": "stream",
          "name": "stdout",
          "text": [
            "Epoch 1/40\n",
            "442/442 [==============================] - 350s 701ms/step - loss: 3534.6064 - MAE: 58.2835 - plcc_tf: 0.6617 - val_loss: 3366.3882 - val_MAE: 57.3105 - val_plcc_tf: 0.8100\n",
            "Epoch 2/40\n",
            "442/442 [==============================] - 303s 684ms/step - loss: 3352.7605 - MAE: 57.2313 - plcc_tf: 0.8561 - val_loss: 3582.5657 - val_MAE: 59.3504 - val_plcc_tf: 0.8776\n",
            "Epoch 3/40\n",
            "442/442 [==============================] - 303s 684ms/step - loss: 3176.0950 - MAE: 55.7074 - plcc_tf: 0.8693 - val_loss: 3027.1306 - val_MAE: 54.4122 - val_plcc_tf: 0.8137\n",
            "Epoch 4/40\n",
            "442/442 [==============================] - 303s 685ms/step - loss: 2937.9785 - MAE: 53.4448 - plcc_tf: 0.8509 - val_loss: 2938.4065 - val_MAE: 50.3516 - val_plcc_tf: 0.8170\n",
            "Epoch 5/40\n",
            "442/442 [==============================] - 303s 684ms/step - loss: 2598.4607 - MAE: 50.2217 - plcc_tf: 0.8653 - val_loss: 2351.5916 - val_MAE: 47.8475 - val_plcc_tf: 0.8517\n",
            "Epoch 6/40\n",
            "442/442 [==============================] - 304s 686ms/step - loss: 2197.0063 - MAE: 46.0448 - plcc_tf: 0.8659 - val_loss: 1936.2799 - val_MAE: 43.3444 - val_plcc_tf: 0.8595\n",
            "Epoch 7/40\n",
            "442/442 [==============================] - 304s 685ms/step - loss: 1764.1334 - MAE: 40.8659 - plcc_tf: 0.8243 - val_loss: 1116.6843 - val_MAE: 31.3545 - val_plcc_tf: 0.6116\n",
            "Epoch 8/40\n",
            "442/442 [==============================] - 308s 694ms/step - loss: 1316.6079 - MAE: 34.9612 - plcc_tf: 0.8214 - val_loss: 1226.0243 - val_MAE: 34.3067 - val_plcc_tf: 0.8874\n",
            "Epoch 9/40\n",
            "442/442 [==============================] - 304s 686ms/step - loss: 919.2328 - MAE: 28.7721 - plcc_tf: 0.8336 - val_loss: 808.0392 - val_MAE: 27.2608 - val_plcc_tf: 0.8788\n",
            "Epoch 10/40\n",
            "442/442 [==============================] - 304s 685ms/step - loss: 594.6525 - MAE: 22.4163 - plcc_tf: 0.8220 - val_loss: 454.2777 - val_MAE: 19.6440 - val_plcc_tf: 0.8507\n",
            "Epoch 11/40\n",
            "442/442 [==============================] - 303s 683ms/step - loss: 361.8977 - MAE: 16.7858 - plcc_tf: 0.8290 - val_loss: 386.0835 - val_MAE: 15.2551 - val_plcc_tf: 0.7308\n",
            "Epoch 12/40\n",
            "442/442 [==============================] - 303s 683ms/step - loss: 226.1030 - MAE: 12.5719 - plcc_tf: 0.8120 - val_loss: 502.3305 - val_MAE: 11.8166 - val_plcc_tf: 0.7513\n",
            "Epoch 13/40\n",
            "442/442 [==============================] - 307s 694ms/step - loss: 155.5928 - MAE: 10.0457 - plcc_tf: 0.8015 - val_loss: 82.0540 - val_MAE: 7.2272 - val_plcc_tf: 0.8664\n",
            "Epoch 14/40\n",
            "442/442 [==============================] - 303s 683ms/step - loss: 126.8206 - MAE: 8.9500 - plcc_tf: 0.7964 - val_loss: 57.9273 - val_MAE: 5.8952 - val_plcc_tf: 0.8685\n",
            "Epoch 15/40\n",
            "442/442 [==============================] - 303s 684ms/step - loss: 113.0472 - MAE: 8.3998 - plcc_tf: 0.8099 - val_loss: 47.2069 - val_MAE: 5.3267 - val_plcc_tf: 0.8887\n",
            "Epoch 16/40\n",
            "442/442 [==============================] - 303s 683ms/step - loss: 105.2997 - MAE: 8.0528 - plcc_tf: 0.8185 - val_loss: 93.3694 - val_MAE: 7.4281 - val_plcc_tf: 0.8657\n",
            "Epoch 17/40\n",
            "442/442 [==============================] - 303s 683ms/step - loss: 116.3870 - MAE: 8.4294 - plcc_tf: 0.7888 - val_loss: 54.2247 - val_MAE: 5.5036 - val_plcc_tf: 0.8686\n",
            "Epoch 18/40\n",
            "442/442 [==============================] - 307s 694ms/step - loss: 105.0796 - MAE: 8.0561 - plcc_tf: 0.8178 - val_loss: 227.9040 - val_MAE: 8.1863 - val_plcc_tf: 0.6805\n",
            "Epoch 19/40\n",
            "442/442 [==============================] - 303s 684ms/step - loss: 106.0295 - MAE: 8.0247 - plcc_tf: 0.8155 - val_loss: 47.1301 - val_MAE: 5.1625 - val_plcc_tf: 0.8808\n",
            "Epoch 20/40\n",
            "442/442 [==============================] - 302s 682ms/step - loss: 103.6812 - MAE: 7.9163 - plcc_tf: 0.8219 - val_loss: 48.2667 - val_MAE: 5.5830 - val_plcc_tf: 0.8923\n",
            "Epoch 21/40\n",
            "442/442 [==============================] - 307s 694ms/step - loss: 98.3388 - MAE: 7.7519 - plcc_tf: 0.8300 - val_loss: 43.4383 - val_MAE: 4.9213 - val_plcc_tf: 0.9021\n",
            "Epoch 22/40\n",
            "442/442 [==============================] - 307s 694ms/step - loss: 97.7806 - MAE: 7.7299 - plcc_tf: 0.8283 - val_loss: 53.1224 - val_MAE: 5.4210 - val_plcc_tf: 0.8808\n",
            "Epoch 23/40\n",
            "442/442 [==============================] - 302s 682ms/step - loss: 100.8587 - MAE: 7.8056 - plcc_tf: 0.8202 - val_loss: 57.3242 - val_MAE: 5.8441 - val_plcc_tf: 0.8762\n",
            "Epoch 24/40\n",
            "442/442 [==============================] - 302s 682ms/step - loss: 106.0749 - MAE: 7.9166 - plcc_tf: 0.8076 - val_loss: 51.8377 - val_MAE: 5.2771 - val_plcc_tf: 0.8855\n",
            "Epoch 25/40\n",
            "442/442 [==============================] - 302s 681ms/step - loss: 101.9749 - MAE: 7.8166 - plcc_tf: 0.8220 - val_loss: 48.6679 - val_MAE: 5.6500 - val_plcc_tf: 0.8946\n",
            "Epoch 26/40\n",
            "442/442 [==============================] - 302s 682ms/step - loss: 101.8955 - MAE: 7.8987 - plcc_tf: 0.8207 - val_loss: 77.6393 - val_MAE: 6.2299 - val_plcc_tf: 0.8107\n",
            "Epoch 27/40\n",
            "442/442 [==============================] - 307s 693ms/step - loss: 96.0555 - MAE: 7.7146 - plcc_tf: 0.8323 - val_loss: 78.0619 - val_MAE: 6.6491 - val_plcc_tf: 0.8731\n",
            "Epoch 28/40\n",
            "442/442 [==============================] - 302s 681ms/step - loss: 96.1016 - MAE: 7.7427 - plcc_tf: 0.8365 - val_loss: 45.2968 - val_MAE: 5.2464 - val_plcc_tf: 0.9016\n",
            "Epoch 29/40\n",
            "442/442 [==============================] - 302s 682ms/step - loss: 96.8332 - MAE: 7.7539 - plcc_tf: 0.8355 - val_loss: 41.0464 - val_MAE: 5.0345 - val_plcc_tf: 0.8992\n",
            "Epoch 30/40\n",
            "442/442 [==============================] - 302s 683ms/step - loss: 92.9426 - MAE: 7.5781 - plcc_tf: 0.8407 - val_loss: 41.2895 - val_MAE: 4.9405 - val_plcc_tf: 0.9050\n",
            "Epoch 31/40\n",
            "442/442 [==============================] - 302s 682ms/step - loss: 91.1237 - MAE: 7.4944 - plcc_tf: 0.8407 - val_loss: 45.1642 - val_MAE: 5.1888 - val_plcc_tf: 0.9079\n",
            "Epoch 32/40\n",
            "442/442 [==============================] - 302s 681ms/step - loss: 91.4696 - MAE: 7.5272 - plcc_tf: 0.8462 - val_loss: 58.4555 - val_MAE: 5.8157 - val_plcc_tf: 0.8763\n",
            "Epoch 33/40\n",
            "442/442 [==============================] - 307s 693ms/step - loss: 93.5635 - MAE: 7.5887 - plcc_tf: 0.8390 - val_loss: 2389.9321 - val_MAE: 21.1706 - val_plcc_tf: 0.4190\n",
            "Epoch 34/40\n",
            "442/442 [==============================] - 302s 682ms/step - loss: 95.3163 - MAE: 7.6831 - plcc_tf: 0.8334 - val_loss: 49.5750 - val_MAE: 5.2837 - val_plcc_tf: 0.8837\n",
            "Epoch 35/40\n",
            "442/442 [==============================] - 307s 693ms/step - loss: 93.0132 - MAE: 7.5605 - plcc_tf: 0.8399 - val_loss: 279.9386 - val_MAE: 8.0550 - val_plcc_tf: 0.7087\n",
            "Epoch 36/40\n",
            "442/442 [==============================] - 302s 682ms/step - loss: 84.4158 - MAE: 7.1777 - plcc_tf: 0.8561 - val_loss: 118.8637 - val_MAE: 7.4578 - val_plcc_tf: 0.8052\n",
            "Epoch 37/40\n",
            "442/442 [==============================] - 302s 682ms/step - loss: 85.1706 - MAE: 7.2612 - plcc_tf: 0.8558 - val_loss: 50.4869 - val_MAE: 5.2732 - val_plcc_tf: 0.8855\n",
            "Epoch 38/40\n",
            "442/442 [==============================] - 302s 682ms/step - loss: 84.2557 - MAE: 7.1099 - plcc_tf: 0.8526 - val_loss: 69.8268 - val_MAE: 6.4766 - val_plcc_tf: 0.8631\n",
            "Epoch 39/40\n",
            "442/442 [==============================] - 302s 682ms/step - loss: 90.2274 - MAE: 7.4365 - plcc_tf: 0.8373 - val_loss: 68.2207 - val_MAE: 6.1550 - val_plcc_tf: 0.8627\n",
            "Epoch 40/40\n",
            "442/442 [==============================] - 302s 682ms/step - loss: 82.5312 - MAE: 7.1010 - plcc_tf: 0.8594 - val_loss: 79.9693 - val_MAE: 6.1783 - val_plcc_tf: 0.8354\n",
            "Model weights loaded: KonCept512/bsz:16 i:1[384,512,3] l:MSE o:1[1]_best_weights.h5\n",
            "Training model: KonCept512/bsz:16 i:1[384,512,3] l:MSE o:1[1]\n"
          ]
        },
        {
          "output_type": "stream",
          "name": "stderr",
          "text": [
            "/usr/local/lib/python3.7/dist-packages/keras/engine/training.py:1972: UserWarning: `Model.fit_generator` is deprecated and will be removed in a future version. Please use `Model.fit`, which supports generators.\n",
            "  warnings.warn('`Model.fit_generator` is deprecated and '\n"
          ]
        },
        {
          "output_type": "stream",
          "name": "stdout",
          "text": [
            "Epoch 1/20\n",
            "442/442 [==============================] - 338s 712ms/step - loss: 84.6875 - MAE: 7.2830 - plcc_tf: 0.8636 - val_loss: 38.9870 - val_MAE: 4.8753 - val_plcc_tf: 0.9154\n",
            "Epoch 2/20\n",
            "442/442 [==============================] - 302s 682ms/step - loss: 87.3420 - MAE: 7.3639 - plcc_tf: 0.8595 - val_loss: 36.2769 - val_MAE: 4.5706 - val_plcc_tf: 0.9104\n",
            "Epoch 3/20\n",
            "442/442 [==============================] - 302s 682ms/step - loss: 82.1399 - MAE: 7.1090 - plcc_tf: 0.8715 - val_loss: 68.3541 - val_MAE: 6.5103 - val_plcc_tf: 0.9046\n",
            "Epoch 4/20\n",
            "442/442 [==============================] - 307s 693ms/step - loss: 82.6657 - MAE: 7.1615 - plcc_tf: 0.8642 - val_loss: 39.1464 - val_MAE: 4.9120 - val_plcc_tf: 0.9060\n",
            "Epoch 5/20\n",
            "442/442 [==============================] - 302s 683ms/step - loss: 79.3572 - MAE: 6.9805 - plcc_tf: 0.8686 - val_loss: 39.0401 - val_MAE: 4.8862 - val_plcc_tf: 0.9132\n",
            "Epoch 6/20\n",
            "442/442 [==============================] - 302s 682ms/step - loss: 81.6595 - MAE: 7.0842 - plcc_tf: 0.8728 - val_loss: 39.2878 - val_MAE: 4.8799 - val_plcc_tf: 0.9124\n",
            "Epoch 7/20\n",
            "442/442 [==============================] - 302s 682ms/step - loss: 76.2362 - MAE: 6.8723 - plcc_tf: 0.8716 - val_loss: 37.4677 - val_MAE: 4.7564 - val_plcc_tf: 0.9140\n",
            "Epoch 8/20\n",
            "442/442 [==============================] - 302s 683ms/step - loss: 78.4571 - MAE: 6.9721 - plcc_tf: 0.8710 - val_loss: 37.1484 - val_MAE: 4.7623 - val_plcc_tf: 0.9153\n",
            "Epoch 9/20\n",
            "442/442 [==============================] - 302s 681ms/step - loss: 79.5485 - MAE: 7.0368 - plcc_tf: 0.8698 - val_loss: 38.9380 - val_MAE: 4.9058 - val_plcc_tf: 0.9090\n",
            "Epoch 10/20\n",
            "442/442 [==============================] - 302s 682ms/step - loss: 78.0987 - MAE: 6.9669 - plcc_tf: 0.8731 - val_loss: 36.7527 - val_MAE: 4.7492 - val_plcc_tf: 0.9184\n",
            "Epoch 11/20\n",
            "442/442 [==============================] - 302s 682ms/step - loss: 77.0068 - MAE: 6.8853 - plcc_tf: 0.8750 - val_loss: 37.9131 - val_MAE: 4.7014 - val_plcc_tf: 0.9114\n",
            "Epoch 12/20\n",
            "442/442 [==============================] - 307s 693ms/step - loss: 75.0249 - MAE: 6.8259 - plcc_tf: 0.8817 - val_loss: 35.8786 - val_MAE: 4.6638 - val_plcc_tf: 0.9164\n",
            "Epoch 13/20\n",
            "442/442 [==============================] - 307s 693ms/step - loss: 77.8993 - MAE: 7.0067 - plcc_tf: 0.8740 - val_loss: 35.5845 - val_MAE: 4.6072 - val_plcc_tf: 0.9100\n",
            "Epoch 14/20\n",
            "442/442 [==============================] - 302s 682ms/step - loss: 77.1331 - MAE: 6.8899 - plcc_tf: 0.8785 - val_loss: 35.2464 - val_MAE: 4.5505 - val_plcc_tf: 0.9222\n",
            "Epoch 15/20\n",
            "442/442 [==============================] - 302s 682ms/step - loss: 73.2470 - MAE: 6.7065 - plcc_tf: 0.8795 - val_loss: 33.9364 - val_MAE: 4.4451 - val_plcc_tf: 0.9207\n",
            "Epoch 16/20\n",
            "442/442 [==============================] - 302s 682ms/step - loss: 72.8443 - MAE: 6.7066 - plcc_tf: 0.8853 - val_loss: 35.2603 - val_MAE: 4.5746 - val_plcc_tf: 0.9141\n",
            "Epoch 17/20\n",
            "442/442 [==============================] - 307s 694ms/step - loss: 73.1715 - MAE: 6.6971 - plcc_tf: 0.8801 - val_loss: 38.7895 - val_MAE: 4.7217 - val_plcc_tf: 0.9132\n",
            "Epoch 18/20\n",
            "442/442 [==============================] - 307s 694ms/step - loss: 72.8207 - MAE: 6.7283 - plcc_tf: 0.8820 - val_loss: 36.4102 - val_MAE: 4.6752 - val_plcc_tf: 0.9187\n",
            "Epoch 19/20\n",
            "442/442 [==============================] - 302s 682ms/step - loss: 74.0131 - MAE: 6.7333 - plcc_tf: 0.8805 - val_loss: 40.6128 - val_MAE: 4.7294 - val_plcc_tf: 0.9093\n",
            "Epoch 20/20\n",
            "442/442 [==============================] - 302s 682ms/step - loss: 73.3862 - MAE: 6.7139 - plcc_tf: 0.8831 - val_loss: 35.0035 - val_MAE: 4.6079 - val_plcc_tf: 0.9222\n"
          ]
        },
        {
          "output_type": "execute_result",
          "data": {
            "text/plain": [
              "<keras.callbacks.History at 0x7f4c502b3690>"
            ]
          },
          "metadata": {},
          "execution_count": 5
        }
      ]
    },
    {
      "cell_type": "markdown",
      "metadata": {
        "id": "Yckb5mXFB7H4"
      },
      "source": [
        "### Load trained model"
      ]
    },
    {
      "cell_type": "code",
      "metadata": {
        "id": "sut6co1bDoGG"
      },
      "source": [
        "%%capture\n",
        "# download the pre-trained KonCept512 model\n",
        "model_root = data_root + 'models/'\n",
        "gen.make_dirs(model_root)\n",
        "!wget -O \"{model_root}koncep512-model.h5\" \"http://datasets.vqa.mmsp-kn.de/archives/koncep512-trained-model.h5\"\n",
        "helper.model.load_weights(model_root + 'koncep512-model.h5')"
      ],
      "execution_count": 5,
      "outputs": []
    },
    {
      "cell_type": "markdown",
      "metadata": {
        "id": "tBi5Th28CBE7"
      },
      "source": [
        "### Test model on the default test set"
      ]
    },
    {
      "cell_type": "code",
      "metadata": {
        "id": "7nFdL8VDB0g4",
        "colab": {
          "base_uri": "https://localhost:8080/",
          "height": 297
        },
        "outputId": "e73bdd00-82a7-4c41-fa04-e163f08969b0"
      },
      "source": [
        "y_pred = helper.predict()\n",
        "y_true = ids[ids.set=='test'].MOS.values\n",
        "apps.rating_metrics(y_true, y_pred);"
      ],
      "execution_count": null,
      "outputs": [
        {
          "output_type": "stream",
          "name": "stdout",
          "text": [
            "SRCC: 0.918 | PLCC: 0.932 | MAE: 9.129 | RMSE: 10.241\n"
          ]
        },
        {
          "output_type": "display_data",
          "data": {
            "text/plain": [
              "<Figure size 432x288 with 1 Axes>"
            ],
            "image/png": "[encoded data removed]"
          },
          "metadata": {
            "needs_background": "light"
          }
        }
      ]
    },
    {
      "cell_type": "markdown",
      "metadata": {
        "id": "M_K2cXQIK_KL"
      },
      "source": [
        "### Predict on a custom image (example)"
      ]
    },
    {
      "cell_type": "code",
      "source": [
        "!unzip /content/Upsample_temp.zip -d /content/upsample_temp"
      ],
      "metadata": {
        "id": "doPPzfgyrQjR"
      },
      "execution_count": null,
      "outputs": []
    },
    {
      "cell_type": "code",
      "source": [
        "from glob import glob"
      ],
      "metadata": {
        "id": "l5TzD7dJv74q"
      },
      "execution_count": 9,
      "outputs": []
    },
    {
      "cell_type": "code",
      "source": [
        "!pwd"
      ],
      "metadata": {
        "id": "KzRikfi3wros",
        "outputId": "7efc11e4-e2fd-4c7a-c329-ba388071134f",
        "colab": {
          "base_uri": "https://localhost:8080/"
        }
      },
      "execution_count": 10,
      "outputs": [
        {
          "output_type": "stream",
          "name": "stdout",
          "text": [
            "/content/koniq\n"
          ]
        }
      ]
    },
    {
      "cell_type": "code",
      "source": [
        "# Returns a list of names in list files - used to iterate\n",
        "files = glob('/content/upsample_temp/Upsample_temp/temp1/temp1-guidance9/**/*.png', \n",
        "                   recursive = True)\n"
      ],
      "metadata": {
        "id": "4kymIU7EwMkx"
      },
      "execution_count": 78,
      "outputs": []
    },
    {
      "cell_type": "code",
      "metadata": {
        "id": "5wqSLmcvK_KN",
        "colab": {
          "base_uri": "https://localhost:8080/"
        },
        "outputId": "c4b7be7c-0493-4bac-ef3c-6edb15e06d50"
      },
      "source": [
        "# Load an image\n",
        "#image_path = data_root + 'images/512x384/' + ids.image_name.values[0]\n",
        "#image_path = '/content/koniq/images/Lu/Lama.png'\n",
        "\n",
        "lst = []\n",
        "for file in files:\n",
        "  im = preprocess_fn(iu.read_image(file))\n",
        "\n",
        "  # Create a batch, of 1 image\n",
        "  batch = np.expand_dims(im, 0)\n",
        "\n",
        "  # Predict quality score\n",
        "  y_pred = helper.model.predict(batch).squeeze()\n",
        "  #print(f'Predicted score: {y_pred:.{2}f}, ground-truth score: {ids.MOS.values[0]:.{2}f}')\n",
        "  #print(f'Predicted score: {y_pred:.{2}f}')\n",
        "  lst.append(y_pred)\n",
        "\n",
        "# Print mean of all\n",
        "scores_raw = np.array(lst)  \n",
        "print( print(f'Mean: {np.mean(scores_raw)}'))"
      ],
      "execution_count": 79,
      "outputs": [
        {
          "output_type": "stream",
          "name": "stdout",
          "text": [
            "Mean: 47.53220748901367\n",
            "None\n"
          ]
        }
      ]
    },
    {
      "cell_type": "code",
      "source": [
        ""
      ],
      "metadata": {
        "id": "ERNletp001Dz"
      },
      "execution_count": null,
      "outputs": []
    },
    {
      "cell_type": "code",
      "source": [
        "image_path"
      ],
      "metadata": {
        "id": "E9d_HX24NXFa",
        "outputId": "10f8ae8e-4728-4853-811e-204eaf7774c5",
        "colab": {
          "base_uri": "https://localhost:8080/",
          "height": 35
        }
      },
      "execution_count": null,
      "outputs": [
        {
          "output_type": "execute_result",
          "data": {
            "text/plain": [
              "'/content/koniq/images/512x384/10004473376.jpg'"
            ],
            "application/vnd.google.colaboratory.intrinsic+json": {
              "type": "string"
            }
          },
          "metadata": {},
          "execution_count": 8
        }
      ]
    }
  ]
}