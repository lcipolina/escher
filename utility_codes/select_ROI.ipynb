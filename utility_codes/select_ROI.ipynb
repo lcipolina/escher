{
 "cells": [
  {
   "cell_type": "markdown",
   "id": "93ac17db",
   "metadata": {},
   "source": [
    "# Explanation\n",
    "https://learnopencv.com/cropping-an-image-using-opencv/\n",
    "\n",
    "For the Region Of Interest:\n",
    "\n",
    "https://docs.opencv.org/4.x/d3/df2/tutorial_py_basic_ops.html\n",
    "\n",
    "There is no specific function for cropping using OpenCV, NumPy array slicing is what does the job.\n",
    "\n",
    "In Python, you crop the image using the same method as NumPy array slicing. \n",
    "\n",
    "To slice an array, you need to specify the start and end index of the first as well as the second dimension. \n",
    "\n",
    "   - The first dimension is always the number of rows or the height of the image.\n",
    "   - The second dimension is the number of columns or the width of the image. \n",
    "   \n",
    "   > cropped = img[start_row:end_row, start_col:end_col]\n",
    "   \n",
    "   An easier way of seeing it:\n",
    "   \n",
    "   > crop_img = src_img[h_start : h_end, w_start : w_end]\n",
    "\n",
    "Example: \n",
    "> Create a sub-image:\n",
    "\n",
    "> cropped_image = img[80:280, 150:330] \n",
    "\n",
    "> Display cropped image    \n",
    "\n",
    "> cv2.imshow(\"cropped\", cropped_image)    \n",
    "\n",
    "> Save the cropped image\n",
    "\n",
    "> cv2.imwrite(\"Cropped Image.jpg\", cropped_image)\n",
    "\n",
    "### Alternatively\n",
    "https://stackoverflow.com/questions/15589517/how-to-crop-an-image-in-opencv-using-python\n",
    "\n",
    "\n",
    "If we consider (0,0) as top left corner of image called im with left-to-right as x direction and top-to-bottom as y direction. \n",
    "\n",
    "and we have (x1,y1) as the top-left vertex and (x2,y2) as the bottom-right vertex of a rectangle region within that image, then:\n",
    "\n",
    ">roi = im[y1:y2, x1:x2]\n"
   ]
  },
  {
   "cell_type": "markdown",
   "id": "fb3610eb",
   "metadata": {},
   "source": [
    "##### How to determine the coordinates?\n",
    "https://www.pyimagesearch.com/2021/01/19/crop-image-with-opencv/\n",
    "\n",
    "Coordinates were determined using photo editing software such as Photoshop, GIMP, Paint, etc\n",
    "\n",
    "###### Alternative way of displaying the coordinates\n",
    "https://www.geeksforgeeks.org/displaying-the-coordinates-of-the-points-clicked-on-the-image-using-python-opencv/\n",
    "\n",
    "#### How to select the ROI and save it as a different image\n",
    "https://blog.electroica.com/select-roi-or-multiple-rois-bounding-box-in-opencv-python/"
   ]
  },
  {
   "cell_type": "code",
   "execution_count": 1,
   "id": "c20ba560",
   "metadata": {},
   "outputs": [],
   "source": [
    "# Import packages\n",
    "import cv2\n",
    "import numpy as np\n",
    "from matplotlib import pyplot as plt"
   ]
  },
  {
   "cell_type": "code",
   "execution_count": 2,
   "id": "62fc81c0",
   "metadata": {},
   "outputs": [],
   "source": [
    "# Reading the original image to crop\n",
    "path  = \"/Users/lucia/Desktop/Escher_Project/00-CODIGOS/0000-Cris_Luengo/00-Latest_code-Lucia/Results/Resol_2048/\"\n",
    "fname = '6.png_2048.png'\n",
    "img_raw  = cv2.imread(path+fname)"
   ]
  },
  {
   "cell_type": "markdown",
   "id": "bb9ae625",
   "metadata": {},
   "source": [
    "### Generate a Cropped Region by Selecting a Single ROI\n",
    "\n",
    "'roi variable will save xy coordinate of left top corner and bottom right corner point of bounding box'\n",
    "    \n",
    "https://blog.electroica.com/select-roi-or-multiple-rois-bounding-box-in-opencv-python/"
   ]
  },
  {
   "cell_type": "markdown",
   "id": "fa90a671",
   "metadata": {},
   "source": [
    "##### ====> Press 'Enter' when done!!!!\n",
    "\n",
    "(see if we press ESC then I can resume program)"
   ]
  },
  {
   "cell_type": "code",
   "execution_count": 3,
   "id": "73f01803",
   "metadata": {},
   "outputs": [
    {
     "name": "stdout",
     "output_type": "stream",
     "text": [
      "points of selected roi are: (234, 32, 0, 0)\n"
     ]
    },
    {
     "ename": "error",
     "evalue": "OpenCV(4.5.4) /Users/runner/work/opencv-python/opencv-python/opencv/modules/imgcodecs/src/loadsave.cpp:799: error: (-215:Assertion failed) !_img.empty() in function 'imwrite'\n",
     "output_type": "error",
     "traceback": [
      "\u001b[0;31m---------------------------------------------------------------------------\u001b[0m",
      "\u001b[0;31merror\u001b[0m                                     Traceback (most recent call last)",
      "\u001b[0;32m/var/folders/75/gdcznqyj2fx71ddtddg0h5180000gn/T/ipykernel_4600/1430151069.py\u001b[0m in \u001b[0;36m<module>\u001b[0;34m\u001b[0m\n\u001b[1;32m     20\u001b[0m \u001b[0;34m\u001b[0m\u001b[0m\n\u001b[1;32m     21\u001b[0m \u001b[0;31m# Save the cropped region\u001b[0m\u001b[0;34m\u001b[0m\u001b[0;34m\u001b[0m\u001b[0;34m\u001b[0m\u001b[0m\n\u001b[0;32m---> 22\u001b[0;31m \u001b[0mcv2\u001b[0m\u001b[0;34m.\u001b[0m\u001b[0mimwrite\u001b[0m\u001b[0;34m(\u001b[0m\u001b[0;34m\"crop.png\"\u001b[0m\u001b[0;34m,\u001b[0m\u001b[0mroi_cropped\u001b[0m\u001b[0;34m)\u001b[0m\u001b[0;34m\u001b[0m\u001b[0;34m\u001b[0m\u001b[0m\n\u001b[0m\u001b[1;32m     23\u001b[0m \u001b[0;34m\u001b[0m\u001b[0m\n\u001b[1;32m     24\u001b[0m \u001b[0;31m# close the window\u001b[0m\u001b[0;34m\u001b[0m\u001b[0;34m\u001b[0m\u001b[0;34m\u001b[0m\u001b[0m\n",
      "\u001b[0;31merror\u001b[0m: OpenCV(4.5.4) /Users/runner/work/opencv-python/opencv-python/opencv/modules/imgcodecs/src/loadsave.cpp:799: error: (-215:Assertion failed) !_img.empty() in function 'imwrite'\n"
     ]
    }
   ],
   "source": [
    "#select ROI function\n",
    "roi = cv2.selectROI(img_raw)\n",
    "\n",
    "#print rectangle points of selected roi\n",
    "print('points of selected roi are:',roi)\n",
    "\n",
    "# crop selected roi from raw image\n",
    "roi_cropped = img_raw[int(roi[1]):int(roi[1]+roi[3]), int(roi[0]):int(roi[0]+roi[2])]\n",
    "\n",
    "# save the shape as I'll need it for later\n",
    "crop_shape = roi_cropped.shape\n",
    "\n",
    "'''\n",
    "#show cropped image\n",
    "cv2.imshow(\"ROI\", roi_cropped)\n",
    "\n",
    "# wait for a key to be pressed to exit \n",
    "cv2.waitKey(0)\n",
    "'''\n",
    "\n",
    "# Save the cropped region\n",
    "cv2.imwrite(\"crop.png\",roi_cropped)\n",
    "\n",
    "# close the window\n",
    "cv2.destroyAllWindows()"
   ]
  },
  {
   "cell_type": "markdown",
   "id": "93a71822",
   "metadata": {},
   "source": [
    "Note:\n",
    "\n",
    "- Click the open window and 'Force Quit' otherwise it wont close\n",
    "\n",
    "- Restart the kernel"
   ]
  },
  {
   "cell_type": "markdown",
   "id": "d6f7a099",
   "metadata": {},
   "source": [
    "=> The above code produces and saves a \"crop.png\" this is the part that we need to \n",
    "fill in and replace\n",
    "\n",
    "=> The \"trick\" to fill in the white part, is to trick LaMa into following a pattern.\n",
    "\n",
    "For this, I need to:\n",
    "\n",
    "- Cut a square on the left without the white part\n",
    "- Mirror it and use LaMa to blend the edges (like a Photoshop trick)\n",
    "- Now with this new pattern, I need to extend it to fill in the entire blank\n",
    "(I have no idea how to do this)\n",
    "\n",
    "-> probably some manual image blender"
   ]
  },
  {
   "cell_type": "code",
   "execution_count": 2,
   "id": "a51c2428",
   "metadata": {},
   "outputs": [],
   "source": [
    "# Mirror an image\n",
    "# https://medium.com/analytics-vidhya/image-flipping-and-mirroring-with-numpy-and-opencv-aecc08558679\n",
    "\n",
    "def read_this(image_file, gray_scale=False):\n",
    "    image_src = cv2.imread(image_file)\n",
    "    if gray_scale:\n",
    "        image_rgb = cv2.cvtColor(image_src, cv2.COLOR_BGR2GRAY)\n",
    "    else:\n",
    "        image_rgb = cv2.cvtColor(image_src, cv2.COLOR_BGR2RGB)\n",
    "    return image_rgb\n",
    "\n",
    "def mirror_this(image_file, gray_scale=False, with_plot=False):\n",
    "    # read image\n",
    "    image_rgb    = read_this(image_file=image_file, gray_scale=gray_scale)\n",
    "    # mirror image\n",
    "    image_mirror = np.fliplr(image_rgb)\n",
    "    # concatenate original and mirrored horizontally\n",
    "    im_h = cv2.hconcat([image_rgb, image_mirror]) \n",
    "    \n",
    "    # save \n",
    "    cv2.imwrite('hconcat.png', im_h)\n"
   ]
  },
  {
   "cell_type": "markdown",
   "id": "482ac87a",
   "metadata": {},
   "source": [
    "### Inpaint the Cropped Region\n",
    "\n",
    "I cropped the region even further with the snipping tool. But it can be done with the initial cropping "
   ]
  },
  {
   "cell_type": "code",
   "execution_count": 3,
   "id": "5780d80d",
   "metadata": {},
   "outputs": [],
   "source": [
    "# Generate mirrored images\n",
    "\n",
    "# Read cropped image\n",
    "path  = \"/Users/lucia/Desktop/Escher_Project/00-CODIGOS/Utility_Codes/\"\n",
    "fname = 'crop.png'\n",
    "\n",
    "\n",
    "# Paste side by side - save it as 'hconcat.png'\n",
    "# Keep the shape of the cropped image as I'll need it to resize ==> NOT FOR NOW!\n",
    "cropShape = mirror_this(image_file=path+fname, with_plot=True)\n"
   ]
  },
  {
   "cell_type": "code",
   "execution_count": null,
   "id": "ac54b003",
   "metadata": {},
   "outputs": [],
   "source": [
    "# Reading the INPAINTED image to MERGE\n",
    "path  = \"/Users/lucia/Desktop/Escher_Project/00-CODIGOS/0000-Cris Luengo/00-Latest_code-Lucia/Results/LaMa2048/Input/\"\n",
    "fname = 'inpainted.png'\n",
    "img_raw  = cv2.imread(path+fname)"
   ]
  },
  {
   "cell_type": "markdown",
   "id": "60e25053",
   "metadata": {},
   "source": [
    "### Here go to LaMa and inpaint to soften borders"
   ]
  },
  {
   "cell_type": "code",
   "execution_count": null,
   "id": "a00a1885",
   "metadata": {},
   "outputs": [],
   "source": [
    "#Paste a ROI into the previously selected region\n",
    "img[int(roi[1]):int(roi[1]+roi[3]), int(roi[0]):int(roi[0]+roi[2])] = region "
   ]
  },
  {
   "cell_type": "markdown",
   "id": "ac4e4a00",
   "metadata": {},
   "source": [
    "### Selecting Multiple ROIs is useful when you have multiple subjects to select from an image.\n",
    "\n",
    "https://blog.electroica.com/select-roi-or-multiple-rois-bounding-box-in-opencv-python/\n",
    "\n",
    "Use the “selectROIs” function will save selected ROIs rectangle point in a array which can be accessed by using indexing.\n",
    "\n",
    "Click and drag the mouse to make a bounding box on the image. \n",
    "\n",
    "Press enter every time you select a bounding box this will save your selections in ROIs variable, \n",
    "\n",
    "once you are done selecting press escape to resume the program."
   ]
  },
  {
   "cell_type": "code",
   "execution_count": null,
   "id": "4f03095a",
   "metadata": {},
   "outputs": [],
   "source": [
    "# Opening the inpainted image\n",
    "path  = \"/Users/lucia/Desktop/Escher_Project/00-CODIGOS/0000-Cris Luengo/00-Latest_code-Lucia/Results/LaMa2048/Input/\"\n",
    "fname = '7.png_2048.png'\n",
    "img   = cv2.imread(path+fname)"
   ]
  },
  {
   "cell_type": "code",
   "execution_count": null,
   "id": "91c754d1",
   "metadata": {},
   "outputs": [],
   "source": [
    "import cv2\n",
    "import numpy as np\n",
    "\n",
    " #image_path\n",
    "img_path=\"image.jpeg\"\n",
    "\n",
    "#read image\n",
    "img_raw = cv2.imread(img_path)\n",
    "\n",
    "#select ROIs function\n",
    "ROIs = cv2.selectROIs(\"Select Rois\",img_raw)\n",
    "\n",
    "#print rectangle points of selected roi\n",
    "print(ROIs)\n",
    "\n",
    "#Crop selected roi ffrom raw image\n",
    "\n",
    "#counter to save image with different name\n",
    "crop_number=0 \n",
    "\n",
    "#loop over every bounding box save in array \"ROIs\"\n",
    "for rect in ROIs:\n",
    "\tx1=rect[0]\n",
    "\ty1=rect[1]\n",
    "\tx2=rect[2]\n",
    "\ty2=rect[3]\n",
    "\n",
    "        #crop roi from original image\n",
    "\timg_crop=img_raw[y1:y1+y2,x1:x1+x2]\n",
    "\n",
    "        #show cropped image\n",
    "        cv2.imshow(\"crop\"+str(crop_number),img_crop)\n",
    "\n",
    "\t#save cropped image\n",
    "\tcv2.imwrite(\"crop\"+str(crop_number)+\".jpeg\",img_crop)\n",
    "        \n",
    "\tcrop_number+=1\n",
    "\n",
    "#hold window\n",
    "cv2.waitKey(0)"
   ]
  }
 ],
 "metadata": {
  "kernelspec": {
   "display_name": "lama",
   "language": "python",
   "name": "lama"
  },
  "language_info": {
   "codemirror_mode": {
    "name": "ipython",
    "version": 3
   },
   "file_extension": ".py",
   "mimetype": "text/x-python",
   "name": "python",
   "nbconvert_exporter": "python",
   "pygments_lexer": "ipython3",
   "version": "3.8.12"
  }
 },
 "nbformat": 4,
 "nbformat_minor": 5
}
