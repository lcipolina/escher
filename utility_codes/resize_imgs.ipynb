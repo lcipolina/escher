{
 "cells": [
  {
   "cell_type": "code",
   "execution_count": 14,
   "id": "d67d8bd2",
   "metadata": {},
   "outputs": [
    {
     "data": {
      "text/plain": [
       "True"
      ]
     },
     "execution_count": 14,
     "metadata": {},
     "output_type": "execute_result"
    }
   ],
   "source": [
    "import cv2\n",
    "path  = '/Users/lucia/Desktop/Escher_Project/00-CODIGOS/0000-Cris Luengo/00-Latest_code-Lucia/straight_high_res/'\n",
    "fname = 'escher_straightened_6.png'\n",
    "img   = cv2.imread(path+fname, cv2.IMREAD_GRAYSCALE)\n",
    "img   = cv2.resize(img, (1000,1000), interpolation = cv2.INTER_LINEAR) \n",
    "cv2.imwrite(path+ '/' + fname +'_1000.png', img) #operations are not done -in place - we need to go back from array to image"
   ]
  },
  {
   "cell_type": "code",
   "execution_count": null,
   "id": "c27c7721",
   "metadata": {},
   "outputs": [],
   "source": []
  }
 ],
 "metadata": {
  "kernelspec": {
   "display_name": "lama",
   "language": "python",
   "name": "lama"
  },
  "language_info": {
   "codemirror_mode": {
    "name": "ipython",
    "version": 3
   },
   "file_extension": ".py",
   "mimetype": "text/x-python",
   "name": "python",
   "nbconvert_exporter": "python",
   "pygments_lexer": "ipython3",
   "version": "3.8.12"
  }
 },
 "nbformat": 4,
 "nbformat_minor": 5
}
