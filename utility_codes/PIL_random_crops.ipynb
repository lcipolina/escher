{
 "cells": [
  {
   "cell_type": "code",
   "execution_count": 8,
   "metadata": {},
   "outputs": [],
   "source": [
    "import matplotlib.pyplot as plt\n",
    "import numpy as np\n",
    "from PIL import Image, ImageDraw, ImageFilter\n",
    "from imutils import rotate\n",
    "import cv2\n",
    "from imageio import imread\n",
    "from random import random"
   ]
  },
  {
   "cell_type": "markdown",
   "metadata": {},
   "source": [
    "## Setting generic parameters\n",
    "Folders, filenames"
   ]
  },
  {
   "cell_type": "code",
   "execution_count": 48,
   "metadata": {},
   "outputs": [],
   "source": [
    "input_folder = \"sc_test_pics/\"\n",
    "output_folder = \"sc_test_pics/random_cuts/\"\n",
    "original_escher_file = \"original.png\"\n",
    "ncuts = 10000\n",
    "minimum_size_crop = 0.3\n",
    "maximum_size_crop = 0.5"
   ]
  },
  {
   "cell_type": "markdown",
   "metadata": {},
   "source": [
    "## Loading the images"
   ]
  },
  {
   "cell_type": "code",
   "execution_count": 25,
   "metadata": {},
   "outputs": [
    {
     "name": "stdout",
     "output_type": "stream",
     "text": [
      "916 916\n"
     ]
    }
   ],
   "source": [
    "im_original = Image.open(input_folder + original_escher_file)\n",
    "height = im_original.size[1]\n",
    "width = im_original.size[0]\n",
    "print(height, width)"
   ]
  },
  {
   "cell_type": "code",
   "execution_count": 50,
   "metadata": {},
   "outputs": [],
   "source": [
    "def generate_random_cut_picture(im_original, \n",
    "                                minimum_size_crop, \n",
    "                                maximum_size_crop,\n",
    "                                name):\n",
    "\n",
    "    # First of all, the size of the cropped region is defined as a percentage of the original picture\n",
    "    # The size will be a uniform random variable between minimum_size_crop and maximum_size_crop\n",
    "    size_interval = maximum_size_crop - minimum_size_crop\n",
    "    size_crop = random() * size_interval + minimum_size_crop\n",
    "\n",
    "    # Calculating the horizontal and vertical sizes of the cropped region\n",
    "    size_crop_x = (int)(size_crop * width)\n",
    "    size_crop_y = (int)(size_crop * height)\n",
    "\n",
    "    # We need a stopguard on the X and Y axis: \n",
    "    # We don't want to start the cropping too deeply, otherwise we will not be able to preserve the selected size\n",
    "    max_start_x = width - size_crop_x\n",
    "    max_start_y = height - size_crop_y\n",
    "\n",
    "    # Pick a random starting point for the top-left corner of the cropped region...\n",
    "    random_start_x = (int)(random() * width)\n",
    "    random_start_y = (int)(random() * height)\n",
    "\n",
    "    # ...and then adjust it, if necessary, by the X and Y stopguards!\n",
    "    start_pixel_x = np.min([max_start_x, random_start_x])\n",
    "    start_pixel_y = np.min([max_start_y, random_start_y])\n",
    "\n",
    "    # Calculating the precise top/left/right/bottom crop levels\n",
    "    pixel_to_crop_left = start_pixel_x\n",
    "    pixel_to_crop_top = start_pixel_y\n",
    "    pixel_to_crop_right = start_pixel_x + size_crop_x\n",
    "    pixel_to_crop_bottom = start_pixel_y + size_crop_y\n",
    "\n",
    "    # Finally cropping!\n",
    "    cropped_im = im_original.crop((pixel_to_crop_left, \n",
    "                            pixel_to_crop_top, \n",
    "                            pixel_to_crop_right, \n",
    "                            pixel_to_crop_bottom))\n",
    "    \n",
    "    cropped_im.save(output_folder + name + '.png', quality=100)"
   ]
  },
  {
   "cell_type": "code",
   "execution_count": 52,
   "metadata": {},
   "outputs": [
    {
     "name": "stdout",
     "output_type": "stream",
     "text": [
      "0 cuts done.\n",
      "100 cuts done.\n",
      "200 cuts done.\n",
      "300 cuts done.\n",
      "400 cuts done.\n",
      "500 cuts done.\n",
      "600 cuts done.\n",
      "700 cuts done.\n",
      "800 cuts done.\n",
      "900 cuts done.\n",
      "1000 cuts done.\n",
      "1100 cuts done.\n",
      "1200 cuts done.\n",
      "1300 cuts done.\n",
      "1400 cuts done.\n",
      "1500 cuts done.\n",
      "1600 cuts done.\n",
      "1700 cuts done.\n",
      "1800 cuts done.\n",
      "1900 cuts done.\n",
      "2000 cuts done.\n",
      "2100 cuts done.\n",
      "2200 cuts done.\n",
      "2300 cuts done.\n",
      "2400 cuts done.\n",
      "2500 cuts done.\n",
      "2600 cuts done.\n",
      "2700 cuts done.\n",
      "2800 cuts done.\n",
      "2900 cuts done.\n",
      "3000 cuts done.\n",
      "3100 cuts done.\n",
      "3200 cuts done.\n",
      "3300 cuts done.\n",
      "3400 cuts done.\n",
      "3500 cuts done.\n",
      "3600 cuts done.\n",
      "3700 cuts done.\n",
      "3800 cuts done.\n",
      "3900 cuts done.\n",
      "4000 cuts done.\n",
      "4100 cuts done.\n",
      "4200 cuts done.\n",
      "4300 cuts done.\n",
      "4400 cuts done.\n",
      "4500 cuts done.\n",
      "4600 cuts done.\n",
      "4700 cuts done.\n",
      "4800 cuts done.\n",
      "4900 cuts done.\n",
      "5000 cuts done.\n",
      "5100 cuts done.\n",
      "5200 cuts done.\n",
      "5300 cuts done.\n",
      "5400 cuts done.\n",
      "5500 cuts done.\n",
      "5600 cuts done.\n",
      "5700 cuts done.\n",
      "5800 cuts done.\n",
      "5900 cuts done.\n",
      "6000 cuts done.\n",
      "6100 cuts done.\n",
      "6200 cuts done.\n",
      "6300 cuts done.\n",
      "6400 cuts done.\n",
      "6500 cuts done.\n",
      "6600 cuts done.\n",
      "6700 cuts done.\n",
      "6800 cuts done.\n",
      "6900 cuts done.\n",
      "7000 cuts done.\n",
      "7100 cuts done.\n",
      "7200 cuts done.\n",
      "7300 cuts done.\n",
      "7400 cuts done.\n",
      "7500 cuts done.\n",
      "7600 cuts done.\n",
      "7700 cuts done.\n",
      "7800 cuts done.\n",
      "7900 cuts done.\n",
      "8000 cuts done.\n",
      "8100 cuts done.\n",
      "8200 cuts done.\n",
      "8300 cuts done.\n",
      "8400 cuts done.\n",
      "8500 cuts done.\n",
      "8600 cuts done.\n",
      "8700 cuts done.\n",
      "8800 cuts done.\n",
      "8900 cuts done.\n",
      "9000 cuts done.\n",
      "9100 cuts done.\n",
      "9200 cuts done.\n",
      "9300 cuts done.\n",
      "9400 cuts done.\n",
      "9500 cuts done.\n",
      "9600 cuts done.\n",
      "9700 cuts done.\n",
      "9800 cuts done.\n",
      "9900 cuts done.\n",
      "10000 cuts done.\n"
     ]
    }
   ],
   "source": [
    "for i in range(0, ncuts + 1):\n",
    "    generate_random_cut_picture(im_original, \n",
    "                                minimum_size_crop, \n",
    "                                maximum_size_crop,\n",
    "                                (str)(i))\n",
    "    if (i % 100 == 0):\n",
    "        print(str(i) + \" cuts done.\")"
   ]
  }
 ],
 "metadata": {
  "kernelspec": {
   "display_name": "Python 3",
   "language": "python",
   "name": "python3"
  },
  "language_info": {
   "codemirror_mode": {
    "name": "ipython",
    "version": 3
   },
   "file_extension": ".py",
   "mimetype": "text/x-python",
   "name": "python",
   "nbconvert_exporter": "python",
   "pygments_lexer": "ipython3",
   "version": "3.7.6"
  }
 },
 "nbformat": 4,
 "nbformat_minor": 4
}
