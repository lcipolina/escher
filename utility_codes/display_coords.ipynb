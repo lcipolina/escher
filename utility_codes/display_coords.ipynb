{
 "cells": [
  {
   "cell_type": "markdown",
   "id": "66812dac",
   "metadata": {},
   "source": [
    "##### How to crop an image:\n",
    "https://stackoverflow.com/questions/15589517/how-to-crop-an-image-in-opencv-using-python\n",
    "\n",
    "https://www.pyimagesearch.com/2021/01/19/crop-image-with-opencv/\n",
    "\n",
    "\n",
    "##### How to determine the coordinates?\n",
    "\n",
    "Using photo editing software such as Photoshop, GIMP, Paint, etc\n",
    "\n",
    "###### Alternative way of displaying the coordinates\n",
    "(this is the one I've used)\n",
    "\n",
    "https://www.geeksforgeeks.org/displaying-the-coordinates-of-the-points-clicked-on-the-image-using-python-opencv/"
   ]
  },
  {
   "cell_type": "code",
   "execution_count": 1,
   "id": "23256c3e",
   "metadata": {},
   "outputs": [],
   "source": [
    "# Import packages\n",
    "import cv2\n",
    "import numpy as np\n",
    "import os"
   ]
  },
  {
   "cell_type": "code",
   "execution_count": 2,
   "id": "d59c0715",
   "metadata": {},
   "outputs": [],
   "source": [
    "# function to display the coordinates of the points clicked on the image\n",
    "def click_event(event, x, y, flags, params):\n",
    "    \n",
    "    coordLst = []\n",
    "\n",
    "    # checking for left mouse clicks\n",
    "    if event == cv2.EVENT_LBUTTONDOWN:\n",
    "\n",
    "        # displaying the coordinates on the Shell\n",
    "        print(x, ' ', y)\n",
    "        \n",
    "        # displaying the coordinates on the image window\n",
    "        font = cv2.FONT_HERSHEY_SIMPLEX\n",
    "        cv2.putText(img, str(x) + ',' + str(y), (x,y), font, 1, (255, 0, 0), 2)\n",
    "        cv2.imshow('image', img)\n",
    "           \n",
    "    # checking for right mouse clicks\n",
    "    if event==cv2.EVENT_RBUTTONDOWN:\n",
    "\n",
    "        # displaying the coordinates on the Shell\n",
    "        print(x, ' ', y)\n",
    "\n",
    "        # displaying the coordinates on the image window\n",
    "        font = cv2.FONT_HERSHEY_SIMPLEX\n",
    "        b = img[y, x, 0]\n",
    "        g = img[y, x, 1]\n",
    "        r = img[y, x, 2]\n",
    "        cv2.putText(img, str(b) + ',' +\n",
    "        str(g) + ',' + str(r),\n",
    "        (x,y), font, 1,\n",
    "        (255, 255, 0), 2)\n",
    "        cv2.imshow('image', img)\n"
   ]
  },
  {
   "cell_type": "code",
   "execution_count": 3,
   "id": "e193c79f",
   "metadata": {},
   "outputs": [],
   "source": [
    "# Import image and get original size\n",
    "\n",
    "#image_copy = img.copy() \n",
    "#w,h,c      = img.shape  #initially this is (2048,2048,3) as are max size taken by LaMa\n"
   ]
  },
  {
   "cell_type": "code",
   "execution_count": 4,
   "id": "71bbd8fd",
   "metadata": {},
   "outputs": [
    {
     "name": "stdout",
     "output_type": "stream",
     "text": [
      "188   2162\n",
      "6216   5054\n",
      "1536   1663\n"
     ]
    }
   ],
   "source": [
    "# driver function\n",
    "if __name__==\"__main__\":\n",
    "\n",
    "    # reading the image\n",
    "    path  = \"/Users/lucia/Desktop/Escher_Project/00-CODIGOS/0000-Cris_Luengo/00-Latest_code-Lucia/Test/\"\n",
    "    fname = '0_half_size.png'\n",
    "    img   = cv2.imread(path+fname)\n",
    "\n",
    "    # displaying the image to crop it\n",
    "    cv2.imshow('image', img)\n",
    "\n",
    "    # setting mouse handler for the image and calling the click_event() function\n",
    "    cv2.setMouseCallback('image', click_event)\n",
    " \n",
    "    # wait for a key to be pressed to exit  \n",
    "    cv2.waitKey(0)\n",
    "\n",
    "    # close the window\n",
    "    cv2.destroyAllWindows()"
   ]
  },
  {
   "cell_type": "markdown",
   "id": "5c35d717",
   "metadata": {},
   "source": [
    "##### See here for how to pass the coordinates\n",
    "(comment almost at the end with image)\n",
    "\n",
    "https://stackoverflow.com/questions/9084609/how-to-copy-a-image-region-using-opencv-in-python\n",
    "\n",
    "And this one\n",
    "https://www.pyimagesearch.com/2021/01/19/crop-image-with-opencv/\n",
    "\n",
    "Write the coordinates to crop\n",
    "\n",
    "'y' = rows, 'x' = cols \n",
    "\n",
    "y1: The starting y-coordinate. \n",
    "\n",
    "y2: The ending y-coordinate. \n",
    "\n",
    "x1: The starting x-coordinate of the slice. \n",
    "\n",
    "x2: The ending x-axis coordinate of the slice. \n",
    "    "
   ]
  },
  {
   "cell_type": "markdown",
   "id": "ae388640",
   "metadata": {},
   "source": [
    "#### Example:\n",
    "I wanted a square (that's the easiest) so I only need the top left and the bottom right coordinates \n",
    "\n",
    "(I placed the mouse in the ends of like a diagonal).\n",
    "\n",
    "Info from the script:\n",
    "\n",
    "Top Left: 188   2162\n",
    "\n",
    "Bottom right coords: 6216   5054\n",
    "\n",
    "x1 =  188\n",
    "\n",
    "y1 =  2162\n",
    "\n",
    "x2 = 6216\n",
    "\n",
    "y2 = 5054\n"
   ]
  },
  {
   "cell_type": "code",
   "execution_count": 2,
   "id": "af592eff",
   "metadata": {},
   "outputs": [],
   "source": [
    "# reading the image\n",
    "path  = \"/Users/lucia/Desktop/Escher_Project/00-CODIGOS/0000-Cris_Luengo/00-Latest_code-Lucia/Test/\"\n",
    "fname = '0_half_size.png'\n",
    "img   = cv2.imread(path+fname)"
   ]
  },
  {
   "cell_type": "code",
   "execution_count": 4,
   "id": "d5fa254d",
   "metadata": {},
   "outputs": [
    {
     "data": {
      "text/plain": [
       "32"
      ]
     },
     "execution_count": 4,
     "metadata": {},
     "output_type": "execute_result"
    }
   ],
   "source": [
    "# Crop using the coordinates\n",
    "\n",
    "x1 =  188\n",
    "\n",
    "y1 =  2162\n",
    "\n",
    "x2 = 6216\n",
    "\n",
    "y2 = 5054\n",
    "\n",
    "crop_img = img[y1:y2, x1:x2]\n",
    "#cv2.imshow(\"cropped\", crop_img) # this is terrible, doesn't work on Jupyter\n",
    "#cv2.waitKey(0)"
   ]
  },
  {
   "cell_type": "code",
   "execution_count": 6,
   "id": "2b32847f",
   "metadata": {},
   "outputs": [
    {
     "ename": "AttributeError",
     "evalue": "'numpy.ndarray' object has no attribute 'save'",
     "output_type": "error",
     "traceback": [
      "\u001b[0;31m---------------------------------------------------------------------------\u001b[0m",
      "\u001b[0;31mAttributeError\u001b[0m                            Traceback (most recent call last)",
      "\u001b[0;32m/var/folders/75/gdcznqyj2fx71ddtddg0h5180000gn/T/ipykernel_57031/3834697854.py\u001b[0m in \u001b[0;36m<module>\u001b[0;34m\u001b[0m\n\u001b[1;32m      1\u001b[0m \u001b[0;31m# Save the cropped image\u001b[0m\u001b[0;34m\u001b[0m\u001b[0;34m\u001b[0m\u001b[0;34m\u001b[0m\u001b[0m\n\u001b[1;32m      2\u001b[0m \u001b[0mcv2\u001b[0m\u001b[0;34m.\u001b[0m\u001b[0mimwrite\u001b[0m\u001b[0;34m(\u001b[0m\u001b[0;34m\"Cropped_Image.png\"\u001b[0m\u001b[0;34m,\u001b[0m \u001b[0mcrop_img\u001b[0m\u001b[0;34m)\u001b[0m\u001b[0;34m\u001b[0m\u001b[0;34m\u001b[0m\u001b[0m\n\u001b[0;32m----> 3\u001b[0;31m \u001b[0mcrop_img\u001b[0m\u001b[0;34m.\u001b[0m\u001b[0msave\u001b[0m\u001b[0;34m(\u001b[0m\u001b[0;34m\"Cropped_Image.png\"\u001b[0m\u001b[0;34m)\u001b[0m\u001b[0;34m\u001b[0m\u001b[0;34m\u001b[0m\u001b[0m\n\u001b[0m",
      "\u001b[0;31mAttributeError\u001b[0m: 'numpy.ndarray' object has no attribute 'save'"
     ]
    }
   ],
   "source": [
    "# Save the cropped image to working directory\n",
    "cv2.imwrite(\"Cropped_Image.png\", crop_img)\n"
   ]
  },
  {
   "cell_type": "code",
   "execution_count": 1,
   "id": "420652cf",
   "metadata": {},
   "outputs": [],
   "source": [
    "#stitch the crop back using the coordinates"
   ]
  },
  {
   "cell_type": "code",
   "execution_count": null,
   "id": "e109596a",
   "metadata": {},
   "outputs": [],
   "source": []
  }
 ],
 "metadata": {
  "kernelspec": {
   "display_name": "lama",
   "language": "python",
   "name": "lama"
  },
  "language_info": {
   "codemirror_mode": {
    "name": "ipython",
    "version": 3
   },
   "file_extension": ".py",
   "mimetype": "text/x-python",
   "name": "python",
   "nbconvert_exporter": "python",
   "pygments_lexer": "ipython3",
   "version": "3.8.12"
  }
 },
 "nbformat": 4,
 "nbformat_minor": 5
}
