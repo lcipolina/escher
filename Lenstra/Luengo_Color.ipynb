{
  "nbformat": 4,
  "nbformat_minor": 0,
  "metadata": {
    "colab": {
      "name": "Luengo-Color.ipynb",
      "provenance": [],
      "collapsed_sections": [],
      "include_colab_link": true
    },
    "kernelspec": {
      "name": "python3",
      "display_name": "Python 3"
    },
    "language_info": {
      "name": "python"
    }
  },
  "cells": [
    {
      "cell_type": "markdown",
      "metadata": {
        "id": "view-in-github",
        "colab_type": "text"
      },
      "source": [
        "<a href=\"https://colab.research.google.com/github/lcipolina/escher/blob/master/Lenstra/Luengo_Color.ipynb\" target=\"_parent\"><img src=\"https://colab.research.google.com/assets/colab-badge.svg\" alt=\"Open In Colab\"/></a>"
      ]
    },
    {
      "cell_type": "code",
      "execution_count": 1,
      "metadata": {
        "colab": {
          "base_uri": "https://localhost:8080/"
        },
        "id": "XUmdipJp9Ipz",
        "outputId": "d5e22bf1-aebf-4a54-a05b-0e6f02e3f5dc"
      },
      "outputs": [
        {
          "output_type": "stream",
          "name": "stdout",
          "text": [
            "Looking in indexes: https://pypi.org/simple, https://us-python.pkg.dev/colab-wheels/public/simple/\n",
            "Collecting dipLib\n",
            "  Downloading diplib-3.3.0-cp37-cp37m-manylinux_2_12_x86_64.manylinux2010_x86_64.whl (6.7 MB)\n",
            "\u001b[K     |████████████████████████████████| 6.7 MB 5.2 MB/s \n",
            "\u001b[?25hInstalling collected packages: dipLib\n",
            "Successfully installed dipLib-3.3.0\n",
            "Retrieving https://downloads.openmicroscopy.org/bio-formats/6.5.0/artifacts/bioformats_package.jar\n",
            "[====================================================] 100%\n"
          ]
        }
      ],
      "source": [
        "!pip install dipLib \n",
        "\n",
        "# to upload an image:\n",
        "!python -m diplib download_bioformats"
      ]
    },
    {
      "cell_type": "code",
      "source": [
        "# Bring Cris' image\n",
        "#!wget https://raw.githubusercontent.com/lcipolina/escher/master/Lenstra/PrintGallery.jpg --quiet"
      ],
      "metadata": {
        "id": "dAo-BhMV_XSn"
      },
      "execution_count": 2,
      "outputs": []
    },
    {
      "cell_type": "markdown",
      "source": [
        "THINGS CAHNGED IN HIS NEW CODE.\n",
        "\n",
        "On the 'escher_forward', almost the last line:\n",
        "\n",
        "add this:\n",
        " rot_angle = -1.1 # #use 0 this to get PG back (but straight images are not horizontal), use 0.65 to get straight images horizontal but don't get PG back #experimental\n",
        "out = escher(src, src_scale, zoom, resolution, rot_angle) # rotation angle copied from esc\n",
        "\n",
        "\n",
        "On \"escher inverse\"\n",
        "\n",
        "change:\n",
        "indx = (dip.Abs(Z.Real()) > limit) | (dip.Abs(Z.Imaginary()) > limit)\n",
        "\n",
        "to:\n",
        "indx = (dip.Abs(Z.Real()) > (limit * 0.998)) | (dip.Abs(Z.Imaginary()) > (limit * 0.998))"
      ],
      "metadata": {
        "id": "5v0J6o2kA8pZ"
      }
    },
    {
      "cell_type": "markdown",
      "source": [
        "# To straight"
      ],
      "metadata": {
        "id": "RX76MJ6kpu4k"
      }
    },
    {
      "cell_type": "code",
      "source": [
        "#Bring a random image to work with\n",
        "#!rm 0.jpg\n",
        "!wget https://raw.githubusercontent.com/lcipolina/escher/master/Lenstra/0.jpg\n",
        "\n",
        "fname = '0.jpg'"
      ],
      "metadata": {
        "colab": {
          "base_uri": "https://localhost:8080/"
        },
        "id": "d477ozkiJmEf",
        "outputId": "6cd925b6-9302-48ac-f199-a6ee05fdab65"
      },
      "execution_count": 3,
      "outputs": [
        {
          "output_type": "stream",
          "name": "stdout",
          "text": [
            "--2022-07-26 10:49:10--  https://raw.githubusercontent.com/lcipolina/escher/master/Lenstra/0.jpg\n",
            "Resolving raw.githubusercontent.com (raw.githubusercontent.com)... 185.199.110.133, 185.199.108.133, 185.199.111.133, ...\n",
            "Connecting to raw.githubusercontent.com (raw.githubusercontent.com)|185.199.110.133|:443... connected.\n",
            "HTTP request sent, awaiting response... 200 OK\n",
            "Length: 5830 (5.7K) [image/jpeg]\n",
            "Saving to: ‘0.jpg.3’\n",
            "\n",
            "\r0.jpg.3               0%[                    ]       0  --.-KB/s               \r0.jpg.3             100%[===================>]   5.69K  --.-KB/s    in 0s      \n",
            "\n",
            "2022-07-26 10:49:10 (64.0 MB/s) - ‘0.jpg.3’ saved [5830/5830]\n",
            "\n"
          ]
        }
      ]
    },
    {
      "cell_type": "code",
      "source": [
        "\n",
        "\n",
        "import math\n",
        "import diplib as dip\n",
        "\n",
        "\n",
        "#***********************************************************************\n",
        "# Grid handling functions\n",
        "#***********************************************************************\n",
        "\n",
        "def meshgrid(src, resolution=2, limit=1):\n",
        "    '''\n",
        "    Function to meshgrid\n",
        "    :param src: source image\n",
        "    :param resolution: scaling of output image w.r.t. input image\n",
        "    :param limit: scaling of the mapping\n",
        "    :return: meshgrid of X,Y coordinates as complex values\n",
        "    '''\n",
        "    out_sizes = [int(src.Size(0) * resolution), int(src.Size(1) * resolution)]\n",
        "    out = dip.CreateCoordinates(out_sizes, {\"frequency\"}) * (2 * limit)\n",
        "    out.MergeTensorToComplex()\n",
        "    return out\n",
        "\n",
        "\n",
        "def select_solution(Z, limit=1):\n",
        "    '''\n",
        "    Select, for each pixel (x,y), one of the solutions Z(:,x,y) that is inside the limit\n",
        "    :param Z: mapped coordinates, as complex values\n",
        "    :param limit: limit of the coordinate system\n",
        "    '''\n",
        "    # Set pixels out of bounds to (0,0)\n",
        "    indx = (dip.Abs(Z.Real()) > limit) | (dip.Abs(Z.Imaginary()) > limit)\n",
        "    Z[indx] = 0\n",
        "    # For pixels where multiple solutions are OK, select the one furthest\n",
        "    # away from the origin\n",
        "    out = Z(0)\n",
        "    for ii in range(1, Z.TensorElements()):\n",
        "      tmp = Z(ii)\n",
        "      indx = dip.Abs(tmp) > dip.Abs(out)\n",
        "      if dip.Any(indx)[0][0]:\n",
        "        out[indx] = tmp[indx]\n",
        "    return out\n",
        "\n",
        "\n",
        "def map_input(Z, src, limit=1):\n",
        "    '''\n",
        "    Function to create output image\n",
        "    :param Z: mapped coordinates, as complex values\n",
        "    :param src: source image\n",
        "    :param limit: limit of the coordinate system\n",
        "    '''\n",
        "    # Convert complex values to coordinates\n",
        "    Z.SplitComplexToTensor()\n",
        "    # Center grid (this converts coordinates [-limit,limit] to [0,src.shape])\n",
        "    Z += limit\n",
        "    Z = dip.MultiplySampleWise(Z, [src.Size(0) / (2 * limit), src.Size(1) / (2 * limit)])\n",
        "    # Generate output image\n",
        "    out = dip.ResampleAt(src, Z, method=\"linear\", fill=200)  # method=\"3-cubic\" for better quality, but I don't think it matters\n",
        "    out.SetColorSpace(src.ColorSpace())  # why is this necessary?\n",
        "    return out\n",
        "\n",
        "\n",
        "def escher_inverse(src, zoom=1, resolution=2, counter_rotation=0):\n",
        "    '''\n",
        "    Main function: applies the inverse Escher mapping\n",
        "    :param src: image to apply the mapping to\n",
        "    :param zoom: zooming of the ouput image\n",
        "    :resolution: how many pixels compared to src\n",
        "    :param counter_rotation: additional rotation given to the image to align visual axis\n",
        "    '''\n",
        "    # Create complex grid\n",
        "    Z = meshgrid(src, resolution, zoom)\n",
        "    # Apply Inverse Transformation\n",
        "    Z = dip.Ln(Z)\n",
        "    Z = dip.JoinChannels((Z + 2j * math.pi, Z, Z - 2j * math.pi, Z - 4j * math.pi)) # mutliple solutions to log(Z)\n",
        "    Z /= (2j * math.pi - math.log(256)) / (2j * math.pi)\n",
        "    Z = dip.Exp(Z)\n",
        "    # Apply an additional rotation\n",
        "    Z *= math.cos(counter_rotation) + 1j * math.sin(counter_rotation)\n",
        "    # Select among the solutions for each pixel the best one\n",
        "    Z = select_solution(Z, 1)\n",
        "    # Create output picture\n",
        "    return map_input(Z, src, 1)\n",
        "\n",
        "\n",
        "#***********************************************************************\n",
        "# Driver\n",
        "#***********************************************************************\n",
        "\n",
        "if __name__ == \"__main__\":\n",
        "   # Parameters of the mapping\n",
        "   resolution = 2                 # larger number means more output pixels\n",
        "\n",
        "   # Image data to map\n",
        "   src = dip.ImageRead('/content/'+fname)\n",
        "   # Picking the right cropping is important, as it determines the origin\n",
        "   #src = src[104:741, 90:715]\n",
        "\n",
        "   for zoom in range(9):\n",
        "      # Generate mapped image\n",
        "      out = escher_inverse(src, 2**(-zoom), resolution)\n",
        "      # Write to file\n",
        "      dip.ImageWrite(out, 'escher_straightened_'+str(zoom)+'.jpg')\n"
      ],
      "metadata": {
        "id": "mSciKyXOBCiB"
      },
      "execution_count": 4,
      "outputs": []
    },
    {
      "cell_type": "markdown",
      "source": [
        "# To twisted\n"
      ],
      "metadata": {
        "id": "XOr7pUlcp52d"
      }
    },
    {
      "cell_type": "code",
      "source": [
        "import math\n",
        "import diplib as dip\n",
        "import numpy as np\n",
        "import os\n",
        "import imageio\n",
        "\n",
        "\n",
        "#***********************************************************************\n",
        "# Grid handling functions\n",
        "#***********************************************************************\n",
        "\n",
        "def meshgrid(src, resolution=2, limit=1):\n",
        "    '''\n",
        "    Function to meshgrid\n",
        "    :param src: source image\n",
        "    :param resolution: scaling of output image w.r.t. input image\n",
        "    :param limit: scaling of the mapping\n",
        "    :return: meshgrid of X,Y coordinates as complex values\n",
        "    '''\n",
        "    out_sizes = [int(src.Size(0) * resolution), int(src.Size(1) * resolution)]\n",
        "    out = dip.CreateCoordinates(out_sizes, {\"frequency\"}) * (2 * limit)\n",
        "    out.MergeTensorToComplex()\n",
        "    return out\n",
        "\n",
        "\n",
        "def select_solution(Z, limit=1):\n",
        "    '''\n",
        "    Select, for each pixel (x,y), one of the solutions Z(:,x,y) that is inside the limit\n",
        "    :param Z: mapped coordinates, as complex values\n",
        "    :param limit: limit of the coordinate system\n",
        "    '''\n",
        "    # Set pixels out of bounds to (0,0)\n",
        "    indx = (dip.Abs(Z.Real()) > (limit * 0.998)) | (dip.Abs(Z.Imaginary()) > (limit * 0.998))\n",
        "    Z[indx] = 0\n",
        "    # For pixels where multiple solutions are OK, select the one furthest\n",
        "    # away from the origin\n",
        "    out = Z(0)\n",
        "    for ii in range(1, Z.TensorElements()):\n",
        "      tmp = Z(ii)\n",
        "      indx = dip.Abs(tmp) > dip.Abs(out)\n",
        "      if dip.Any(indx)[0][0]:\n",
        "        out[indx] = tmp[indx]\n",
        "    return out\n",
        "\n",
        "\n",
        "def map_input(Z, src, src_scale, droste_scale):\n",
        "    '''\n",
        "    Function to create output image\n",
        "    :param Z: mapped coordinates, as complex values\n",
        "    :param src: images to apply the mapping to\n",
        "    :param src_scale: scale for each of the images\n",
        "    :param droste_scale: the scale at which we get back to the first image\n",
        "    '''\n",
        "    assert len(src) == len(src_scale)\n",
        "    src_size = src[0].Sizes()\n",
        "    for ii in range(1, len(src)):\n",
        "        assert src[ii].Sizes() == src_size\n",
        "    # Convert complex values to coordinates\n",
        "    Z.SplitComplexToTensor()\n",
        "    # Create a map for which pixels to take from which input image\n",
        "    out = dip.Image(Z(0).Sizes(), src[0].TensorElements(), 'SFLOAT')\n",
        "    out.SetColorSpace(src[0].ColorSpace())\n",
        "    out.Fill(-1)\n",
        "    for ii in reversed(range(len(src))):\n",
        "        Z0 = dip.MultiplySampleWise(Z + (1 / src_scale[ii]), dip.Create0D([src_size[0] * src_scale[ii] / 2, src_size[1] * src_scale[ii] / 2]))\n",
        "        src[ii].Convert('SFLOAT')\n",
        "        tmp = dip.ResampleAt(src[ii], Z0, method=\"linear\", fill=-1)  # method=\"3-cubic\" for better quality, but I don't think it matters\n",
        "        mask = (tmp(0) >= 0) & (out(0) < 0)\n",
        "        if dip.Any(mask)[0][0]:\n",
        "           out[mask] = tmp[mask]\n",
        "    print(\"Number of pixels not assigned:\", dip.Count(out(0) < 0))\n",
        "    out.Convert(\"UINT8\")\n",
        "    return out\n",
        "\n",
        "\n",
        "def escher(src, src_scale, zoom=1, resolution=10, counter_rotation=0):\n",
        "    '''\n",
        "    Main function: applies the Escher mapping\n",
        "    :param src: images to apply the mapping to\n",
        "    :param src_scale: scale for each of the images\n",
        "    :param zoom: zooming of the ouput image, by default is 1\n",
        "    :resolution: how many pixels compared to src\n",
        "    :param counter_rotation: additional rotation given to the image to align visual axis\n",
        "    '''\n",
        "    # Create complex grid\n",
        "    Z = meshgrid(src[0], resolution, zoom)\n",
        "    # Apply Transformation\n",
        "    Z = dip.Ln(Z)\n",
        "    Z = dip.JoinChannels((Z + 2j * math.pi, Z, Z - 2j * math.pi, Z - 4j * math.pi)) # mutliple solutions to log(Z)\n",
        "    Z *= (2j * math.pi - math.log(256)) / (2j * math.pi)\n",
        "    Z = dip.Exp(Z)\n",
        "    # Apply an additional rotation\n",
        "    Z *= math.cos(counter_rotation) + 1j * math.sin(counter_rotation)\n",
        "    # Select among the solutions for each pixel the best one\n",
        "    Z = select_solution(Z, 1)\n",
        "    # Create output picture\n",
        "    return map_input(Z, src, src_scale, 256)\n",
        "\n",
        "\n",
        "#***********************************************************************\n",
        "# Driver\n",
        "#***********************************************************************\n",
        "\n",
        "if __name__ == \"__main__\":\n",
        "   # Parameters of the mapping\n",
        "   resolution = 1               # larger number means more output pixels\n",
        "   zoom = 1.8                   # this value can be used to zoom in our out of the generated image\n",
        "\n",
        "   # Image data to map\n",
        "   src = []\n",
        "   src_scale = []\n",
        "   for ii in range(8):\n",
        "      print(ii)\n",
        "      if not os.path.exists(str(ii)+'.png'):\n",
        "         print(\"file does not exist!\")\n",
        "      else:\n",
        "         img = imageio.imread(str(ii)+'.png')\n",
        "         img = dip.Image(img)\n",
        "         img.SetColorSpace('sRGB')\n",
        "         src.append(img)\n",
        "         src_scale.append(2**ii)     # doesn't match values used in escher_inverse.py\n",
        "   \n",
        "   # Generate mapped image\n",
        "   rot_angle = -1.15  #use 0 this to get PG back (but straight images are not horizontal), use 0.65 to get straight images horizontal but don't get PG back\n",
        "   out = escher(src, src_scale, zoom, resolution, rot_angle)\n",
        "   \n",
        "   # Write to file\n",
        "   dip.ImageWrite(out, 'escher_composite.jpg')\n"
      ],
      "metadata": {
        "colab": {
          "base_uri": "https://localhost:8080/"
        },
        "id": "V8M2MrRHBIeO",
        "outputId": "ff90c7f6-75e7-4ce1-9453-5127ce614b3c"
      },
      "execution_count": 1,
      "outputs": [
        {
          "output_type": "stream",
          "name": "stdout",
          "text": [
            "DIPlib -- a quantitative image analysis library\n",
            "Version 3.3.0 (May 21 2022)\n",
            "For more information see https://diplib.org\n",
            "0\n",
            "1\n",
            "2\n",
            "3\n",
            "4\n",
            "5\n",
            "6\n",
            "7\n",
            "Number of pixels not assigned: 0\n"
          ]
        }
      ]
    },
    {
      "cell_type": "code",
      "source": [
        ""
      ],
      "metadata": {
        "id": "m5yoBbpXxO5X"
      },
      "execution_count": null,
      "outputs": []
    }
  ]
}