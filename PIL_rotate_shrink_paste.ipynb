{
  "nbformat": 4,
  "nbformat_minor": 0,
  "metadata": {
    "kernelspec": {
      "display_name": "Python 3",
      "language": "python",
      "name": "python3"
    },
    "language_info": {
      "codemirror_mode": {
        "name": "ipython",
        "version": 3
      },
      "file_extension": ".py",
      "mimetype": "text/x-python",
      "name": "python",
      "nbconvert_exporter": "python",
      "pygments_lexer": "ipython3",
      "version": "3.7.6"
    },
    "colab": {
      "name": "PIL_rotate_shrink_paste.ipynb",
      "provenance": [],
      "include_colab_link": true
    }
  },
  "cells": [
    {
      "cell_type": "markdown",
      "metadata": {
        "id": "view-in-github",
        "colab_type": "text"
      },
      "source": [
        "<a href=\"https://colab.research.google.com/github/lcipolina/escher/blob/Lucia/PIL_rotate_shrink_paste.ipynb\" target=\"_parent\"><img src=\"https://colab.research.google.com/assets/colab-badge.svg\" alt=\"Open In Colab\"/></a>"
      ]
    },
    {
      "cell_type": "code",
      "metadata": {
        "id": "DzcalgDNB0Jq"
      },
      "source": [
        "import matplotlib.pyplot as plt\n",
        "import numpy as np\n",
        "from PIL import Image, ImageDraw, ImageFilter\n",
        "from imutils import rotate\n",
        "import cv2\n",
        "from imageio import imread\n"
      ],
      "execution_count": 1,
      "outputs": []
    },
    {
      "cell_type": "markdown",
      "metadata": {
        "id": "fb2eVTGHB0Ju"
      },
      "source": [
        "## Setting generic parameters\n",
        "Rotation, scaling, folders, filenames"
      ]
    },
    {
      "cell_type": "code",
      "metadata": {
        "id": "fkG0WwFNB0Jw"
      },
      "source": [
        "ROTATION = 162.497433\n",
        "SCALING = 0.05576523\n",
        "\n",
        "#folder = \"sc_test_pics/\"\n",
        "#original_escher_file = \"original.png\"\n",
        "#to_paste_in_center_file = \"CoModGan_fine_tune1_square.png\""
      ],
      "execution_count": 2,
      "outputs": []
    },
    {
      "cell_type": "markdown",
      "metadata": {
        "id": "mfcOdFFlB0Jx"
      },
      "source": [
        "## Loading the images"
      ]
    },
    {
      "cell_type": "code",
      "metadata": {
        "id": "neItbPkWB0Jx",
        "outputId": "bcfe4baa-7589-441f-86fe-b309e047b386",
        "colab": {
          "base_uri": "https://localhost:8080/"
        }
      },
      "source": [
        "#Original escher file\n",
        "!curl https://i.imgur.com/kzDuHaQ.jpg> original_escher_file.jpg  #We use the the 'Direct Link\" in Imgur to download to our local folder in Colab\n",
        "\n",
        "#Masked file\n",
        "\n",
        "folder = \"/content/\"\n",
        "original_escher_file    = \"original_escher_file.jpg\"\n",
        "to_paste_in_center_file = \"original_escher_file.jpg\" #they are tge same....for now\n",
        "\n",
        "im_original = Image.open(folder + original_escher_file)\n",
        "im_to_paste = Image.open(folder + to_paste_in_center_file)\n",
        "\n"
      ],
      "execution_count": 9,
      "outputs": [
        {
          "output_type": "stream",
          "text": [
            "  % Total    % Received % Xferd  Average Speed   Time    Time     Time  Current\n",
            "                                 Dload  Upload   Total   Spent    Left  Speed\n",
            "\r  0     0    0     0    0     0      0      0 --:--:-- --:--:-- --:--:--     0\r100 57478  100 57478    0     0   544k      0 --:--:-- --:--:-- --:--:--  544k\n"
          ],
          "name": "stdout"
        }
      ]
    },
    {
      "cell_type": "markdown",
      "metadata": {
        "id": "ZyWjEvjjB0Jx"
      },
      "source": [
        "# 1) Pasting the content in the center to make a \"global\" picture"
      ]
    },
    {
      "cell_type": "markdown",
      "metadata": {
        "id": "VecwO4b6B0Jz"
      },
      "source": [
        "## 1.1) Resizing pictures\n",
        "We need to do two things:\n",
        "1. Bring both pictures to the same scale of the \"original\" painting - this is because the scaling factor (0.055..) applies to pictures that are of the same size!\n",
        "2. Then apply the scaling factor to the picture we want to paste.\n",
        "\n",
        "### Assumption\n",
        "Note that in this script we ASSUME that the pictures have the same height. This is why the ratio is calculated starting from the \"size[1]\" element, which is the height."
      ]
    },
    {
      "cell_type": "code",
      "metadata": {
        "id": "nSiuJ7CBB0J0"
      },
      "source": [
        "# Note that the ratio is calculated on the basis of height\n",
        "ratio = SCALING * im_original.size[1]/im_to_paste.size[1]\n",
        "\n",
        "# PIL only rescales on the basis of a new target pixel size\n",
        "# So we have to multiply the ratio by the original size, and then cast to integer\n",
        "new_x = (int)(im_to_paste.size[0] * ratio)\n",
        "new_y = (int)(im_to_paste.size[1] * ratio)\n",
        "\n",
        "# Finally, we resize\n",
        "im_to_paste_scaled = im_to_paste.resize((new_x, new_y), \n",
        "                                        Image.ANTIALIAS)\n"
      ],
      "execution_count": 10,
      "outputs": []
    },
    {
      "cell_type": "markdown",
      "metadata": {
        "id": "vfJXENcKB0J1"
      },
      "source": [
        "## 1.2) Rotation\n",
        "This is pretty straightforward, except for a small detail: PIL rotates pictures in a \"canvas\", which is then filled with colour (the default is black).\n",
        "\n",
        "So, I have hardcoded the grayish colour of the center of the painting, which is (226, 222, 218) in RGB terms.\n",
        "\n",
        "P.S.: In theory...the PIL rotate() function should recognize RGBA formats, i.e. with transparency - this is the reason for the extra entry in the tuple (226, 222, 218, 255) - but it doesn't seem to work...\n",
        "\n",
        "P.P.S.: the \"expand = 1\" instruction is there to extend the \"canvas\" when we rotate - otherwise, PIL would just crop the image according to the original dimensions of the picture we rotated!\n"
      ]
    },
    {
      "cell_type": "code",
      "metadata": {
        "id": "ygJ-Xae9B0J2",
        "outputId": "f7eea53f-8cc9-4660-b6ba-7bc7ff0aaf85",
        "colab": {
          "base_uri": "https://localhost:8080/",
          "height": 324
        }
      },
      "source": [
        "im_to_past_scaled_rotated = im_to_paste_scaled.rotate(-ROTATION, fillcolor=(226, 222, 218, 255), expand=1)"
      ],
      "execution_count": 11,
      "outputs": [
        {
          "output_type": "error",
          "ename": "TypeError",
          "evalue": "ignored",
          "traceback": [
            "\u001b[0;31m---------------------------------------------------------------------------\u001b[0m",
            "\u001b[0;31mTypeError\u001b[0m                                 Traceback (most recent call last)",
            "\u001b[0;32m<ipython-input-11-dc9783203f9c>\u001b[0m in \u001b[0;36m<module>\u001b[0;34m()\u001b[0m\n\u001b[0;32m----> 1\u001b[0;31m \u001b[0mim_to_past_scaled_rotated\u001b[0m \u001b[0;34m=\u001b[0m \u001b[0mim_to_paste_scaled\u001b[0m\u001b[0;34m.\u001b[0m\u001b[0mrotate\u001b[0m\u001b[0;34m(\u001b[0m\u001b[0;34m-\u001b[0m\u001b[0mROTATION\u001b[0m\u001b[0;34m,\u001b[0m \u001b[0mfillcolor\u001b[0m\u001b[0;34m=\u001b[0m\u001b[0;34m(\u001b[0m\u001b[0;36m226\u001b[0m\u001b[0;34m,\u001b[0m \u001b[0;36m222\u001b[0m\u001b[0;34m,\u001b[0m \u001b[0;36m218\u001b[0m\u001b[0;34m,\u001b[0m \u001b[0;36m255\u001b[0m\u001b[0;34m)\u001b[0m\u001b[0;34m,\u001b[0m \u001b[0mexpand\u001b[0m\u001b[0;34m=\u001b[0m\u001b[0;36m1\u001b[0m\u001b[0;34m)\u001b[0m\u001b[0;34m\u001b[0m\u001b[0;34m\u001b[0m\u001b[0m\n\u001b[0m",
            "\u001b[0;32m/usr/local/lib/python3.7/dist-packages/PIL/Image.py\u001b[0m in \u001b[0;36mrotate\u001b[0;34m(self, angle, resample, expand, center, translate, fillcolor)\u001b[0m\n\u001b[1;32m   2053\u001b[0m             \u001b[0mw\u001b[0m\u001b[0;34m,\u001b[0m \u001b[0mh\u001b[0m \u001b[0;34m=\u001b[0m \u001b[0mnw\u001b[0m\u001b[0;34m,\u001b[0m \u001b[0mnh\u001b[0m\u001b[0;34m\u001b[0m\u001b[0;34m\u001b[0m\u001b[0m\n\u001b[1;32m   2054\u001b[0m \u001b[0;34m\u001b[0m\u001b[0m\n\u001b[0;32m-> 2055\u001b[0;31m         \u001b[0;32mreturn\u001b[0m \u001b[0mself\u001b[0m\u001b[0;34m.\u001b[0m\u001b[0mtransform\u001b[0m\u001b[0;34m(\u001b[0m\u001b[0;34m(\u001b[0m\u001b[0mw\u001b[0m\u001b[0;34m,\u001b[0m \u001b[0mh\u001b[0m\u001b[0;34m)\u001b[0m\u001b[0;34m,\u001b[0m \u001b[0mAFFINE\u001b[0m\u001b[0;34m,\u001b[0m \u001b[0mmatrix\u001b[0m\u001b[0;34m,\u001b[0m \u001b[0mresample\u001b[0m\u001b[0;34m,\u001b[0m \u001b[0mfillcolor\u001b[0m\u001b[0;34m=\u001b[0m\u001b[0mfillcolor\u001b[0m\u001b[0;34m)\u001b[0m\u001b[0;34m\u001b[0m\u001b[0;34m\u001b[0m\u001b[0m\n\u001b[0m\u001b[1;32m   2056\u001b[0m \u001b[0;34m\u001b[0m\u001b[0m\n\u001b[1;32m   2057\u001b[0m     \u001b[0;32mdef\u001b[0m \u001b[0msave\u001b[0m\u001b[0;34m(\u001b[0m\u001b[0mself\u001b[0m\u001b[0;34m,\u001b[0m \u001b[0mfp\u001b[0m\u001b[0;34m,\u001b[0m \u001b[0mformat\u001b[0m\u001b[0;34m=\u001b[0m\u001b[0;32mNone\u001b[0m\u001b[0;34m,\u001b[0m \u001b[0;34m**\u001b[0m\u001b[0mparams\u001b[0m\u001b[0;34m)\u001b[0m\u001b[0;34m:\u001b[0m\u001b[0;34m\u001b[0m\u001b[0;34m\u001b[0m\u001b[0m\n",
            "\u001b[0;32m/usr/local/lib/python3.7/dist-packages/PIL/Image.py\u001b[0m in \u001b[0;36mtransform\u001b[0;34m(self, size, method, data, resample, fill, fillcolor)\u001b[0m\n\u001b[1;32m   2369\u001b[0m             \u001b[0;32mraise\u001b[0m \u001b[0mValueError\u001b[0m\u001b[0;34m(\u001b[0m\u001b[0;34m\"missing method data\"\u001b[0m\u001b[0;34m)\u001b[0m\u001b[0;34m\u001b[0m\u001b[0;34m\u001b[0m\u001b[0m\n\u001b[1;32m   2370\u001b[0m \u001b[0;34m\u001b[0m\u001b[0m\n\u001b[0;32m-> 2371\u001b[0;31m         \u001b[0mim\u001b[0m \u001b[0;34m=\u001b[0m \u001b[0mnew\u001b[0m\u001b[0;34m(\u001b[0m\u001b[0mself\u001b[0m\u001b[0;34m.\u001b[0m\u001b[0mmode\u001b[0m\u001b[0;34m,\u001b[0m \u001b[0msize\u001b[0m\u001b[0;34m,\u001b[0m \u001b[0mfillcolor\u001b[0m\u001b[0;34m)\u001b[0m\u001b[0;34m\u001b[0m\u001b[0;34m\u001b[0m\u001b[0m\n\u001b[0m\u001b[1;32m   2372\u001b[0m         \u001b[0mim\u001b[0m\u001b[0;34m.\u001b[0m\u001b[0minfo\u001b[0m \u001b[0;34m=\u001b[0m \u001b[0mself\u001b[0m\u001b[0;34m.\u001b[0m\u001b[0minfo\u001b[0m\u001b[0;34m.\u001b[0m\u001b[0mcopy\u001b[0m\u001b[0;34m(\u001b[0m\u001b[0;34m)\u001b[0m\u001b[0;34m\u001b[0m\u001b[0;34m\u001b[0m\u001b[0m\n\u001b[1;32m   2373\u001b[0m         \u001b[0;32mif\u001b[0m \u001b[0mmethod\u001b[0m \u001b[0;34m==\u001b[0m \u001b[0mMESH\u001b[0m\u001b[0;34m:\u001b[0m\u001b[0;34m\u001b[0m\u001b[0;34m\u001b[0m\u001b[0m\n",
            "\u001b[0;32m/usr/local/lib/python3.7/dist-packages/PIL/Image.py\u001b[0m in \u001b[0;36mnew\u001b[0;34m(mode, size, color)\u001b[0m\n\u001b[1;32m   2576\u001b[0m         \u001b[0mim\u001b[0m\u001b[0;34m.\u001b[0m\u001b[0mpalette\u001b[0m \u001b[0;34m=\u001b[0m \u001b[0mImagePalette\u001b[0m\u001b[0;34m.\u001b[0m\u001b[0mImagePalette\u001b[0m\u001b[0;34m(\u001b[0m\u001b[0;34m)\u001b[0m\u001b[0;34m\u001b[0m\u001b[0;34m\u001b[0m\u001b[0m\n\u001b[1;32m   2577\u001b[0m         \u001b[0mcolor\u001b[0m \u001b[0;34m=\u001b[0m \u001b[0mim\u001b[0m\u001b[0;34m.\u001b[0m\u001b[0mpalette\u001b[0m\u001b[0;34m.\u001b[0m\u001b[0mgetcolor\u001b[0m\u001b[0;34m(\u001b[0m\u001b[0mcolor\u001b[0m\u001b[0;34m)\u001b[0m\u001b[0;34m\u001b[0m\u001b[0;34m\u001b[0m\u001b[0m\n\u001b[0;32m-> 2578\u001b[0;31m     \u001b[0;32mreturn\u001b[0m \u001b[0mim\u001b[0m\u001b[0;34m.\u001b[0m\u001b[0m_new\u001b[0m\u001b[0;34m(\u001b[0m\u001b[0mcore\u001b[0m\u001b[0;34m.\u001b[0m\u001b[0mfill\u001b[0m\u001b[0;34m(\u001b[0m\u001b[0mmode\u001b[0m\u001b[0;34m,\u001b[0m \u001b[0msize\u001b[0m\u001b[0;34m,\u001b[0m \u001b[0mcolor\u001b[0m\u001b[0;34m)\u001b[0m\u001b[0;34m)\u001b[0m\u001b[0;34m\u001b[0m\u001b[0;34m\u001b[0m\u001b[0m\n\u001b[0m\u001b[1;32m   2579\u001b[0m \u001b[0;34m\u001b[0m\u001b[0m\n\u001b[1;32m   2580\u001b[0m \u001b[0;34m\u001b[0m\u001b[0m\n",
            "\u001b[0;31mTypeError\u001b[0m: function takes exactly 1 argument (4 given)"
          ]
        }
      ]
    },
    {
      "cell_type": "markdown",
      "metadata": {
        "id": "z24EDRNGB0J2"
      },
      "source": [
        "## 1.3) Pasting\n",
        "Pasting is done natively by PIL - we just need to provide the (x, y) coordinates of the point in which we want to paste the picture, and we are done.\n",
        "\n",
        "### Important note\n",
        "the convention is that we paste the picture from its top-left corner. That is why there is an extra offset below:\n",
        "1. First we compute the center of the bigger picture (\"center_coordinate_x\" and \"center_coordinate_y\")\n",
        "2. But then we need to SUBTRACT half of the height and the width of the picture we want to paste in order to align the centers\n",
        "\n",
        "### Assumption\n",
        "We ASSUME that the centers of the two pictures are the same - this is not correct if the picture to paste is not symmetric, but the error is quite small in this case."
      ]
    },
    {
      "cell_type": "code",
      "metadata": {
        "id": "O3B2wiXSB0J2"
      },
      "source": [
        "# Making a copy, to avoid screwing up the original which we will need later!\n",
        "back_im = im_original.copy()\n",
        "\n",
        "# Calculating the center coordinate of the bigger picture (the original)\n",
        "center_coordinate_x = (int)(im_original.size[0]/2)\n",
        "center_coordinate_y = (int)(im_original.size[1]/2)\n",
        "\n",
        "# Computing the offsets under the assumption that the center of the pictures are the same\n",
        "x_offset = (int)(im_to_past_scaled_rotated.size[0]/2)\n",
        "y_offset = (int)(im_to_past_scaled_rotated.size[1]/2)\n",
        "\n",
        "# Pasting!\n",
        "back_im.paste(im_to_past_scaled_rotated, (center_coordinate_x - x_offset, center_coordinate_y - y_offset))\n",
        "\n",
        "# Saving the picture and opening it up with the default OS utility to open .PNG files\n",
        "back_im.save('test.png', quality=100)\n",
        "back_im.show()"
      ],
      "execution_count": null,
      "outputs": []
    },
    {
      "cell_type": "markdown",
      "metadata": {
        "id": "9US31YidB0J4"
      },
      "source": [
        "# 2) Inverse transformation, i.e. \"Zooming in\"\n",
        "Same principles as before apply - except that this time we need to enlarge the \"host\" picture to zoom in!"
      ]
    },
    {
      "cell_type": "markdown",
      "metadata": {
        "id": "Het0QddBB0J4"
      },
      "source": [
        "## 2.1) Resizing pictures\n",
        "Note that this time the order of the scaling is reversed! \n",
        "\n",
        "And we scale the \"original\" picture, not the one to paste."
      ]
    },
    {
      "cell_type": "code",
      "metadata": {
        "id": "3h9X4nPeB0J4"
      },
      "source": [
        "# Once again, the ratio is calculated on the basis of height\n",
        "ratio = im_to_paste.size[1]/(SCALING * im_original.size[1])\n",
        "\n",
        "# But this time we are scaling the original picture to make it bigger (HUGE, in fact)\n",
        "new_x = (int)(im_original.size[0] * ratio)\n",
        "new_y = (int)(im_original.size[1] * ratio)\n",
        "\n",
        "im_to_host_scaled = im_original.resize((new_x, new_y), \n",
        "                                        Image.ANTIALIAS)"
      ],
      "execution_count": null,
      "outputs": []
    },
    {
      "cell_type": "markdown",
      "metadata": {
        "id": "uHWFOWSGB0J5"
      },
      "source": [
        "## 2.2) Rotation\n",
        "This is exactly as before, except that we are scaling the picture to paste as we loaded it from the file - we are scaling the original painting, remember? "
      ]
    },
    {
      "cell_type": "code",
      "metadata": {
        "id": "HP0a9rDlB0J5"
      },
      "source": [
        "im_to_paste_rotated = im_to_paste.rotate(-ROTATION, fillcolor=(226, 222, 218, 255), expand=1)"
      ],
      "execution_count": null,
      "outputs": []
    },
    {
      "cell_type": "markdown",
      "metadata": {
        "id": "NJ3XVp2PB0J5"
      },
      "source": [
        "## 2.3) Pasting\n",
        "Procedure and assumptions as per 1.3) before - however, we need an additional cropping stage.\n",
        "\n",
        "This is because the picture we are generating is HUGE - think 9k pixels each side. And also, we are only interested in a zoomed section, right?\n",
        "\n",
        "So, the PIL \"crop()\" function is here to help. We need to provide the pixel coordinates for the left, top, right, bottom limits for which we want to crop. Note that for left/right limits we will provide an X coordinate, and for top/bottom we will provide a Y coordinate.\n",
        "\n",
        "The limits, as you can see below, are determined on the basis of a \"crop_factor\". Fine-tune it to your preferences, remembering that with 0 you are not cropping anything, and with 0.5 you delete the entire picture!"
      ]
    },
    {
      "cell_type": "code",
      "metadata": {
        "id": "fz_TKX5NB0J5",
        "outputId": "c98dfe36-c4f1-4a6d-8339-47946fea6e34"
      },
      "source": [
        "# This time, we start from the scaled-up version of the original\n",
        "back_im = im_to_host_scaled.copy()\n",
        "\n",
        "# Calculating the center coordinate of the bigger picture (the scaled-up original)\n",
        "center_coordinate_x = (int)(im_to_host_scaled.size[0]/2)\n",
        "center_coordinate_y = (int)(im_to_host_scaled.size[1]/2)\n",
        "\n",
        "# Computing the offsets under the assumption that the center of the pictures are the same\n",
        "x_offset = (int)(im_to_paste_rotated.size[0]/2)\n",
        "y_offset = (int)(im_to_paste_rotated.size[1]/2)\n",
        "\n",
        "# Pasting!\n",
        "back_im.paste(im_to_paste_rotated, (center_coordinate_x - x_offset, center_coordinate_y - y_offset))\n",
        "\n",
        "# The resulting picture is huge potentially, so we need to crop.\n",
        "crop_factor = 0.42\n",
        "\n",
        "height = back_im.size[1]\n",
        "width = back_im.size[0]\n",
        "pixel_to_crop_left = (int)(crop_factor * width)\n",
        "pixel_to_crop_top = (int)(crop_factor * height)\n",
        "pixel_to_crop_right = (int)((1 - crop_factor) * width)\n",
        "pixel_to_crop_bottom = (int)((1 - crop_factor) * height)\n",
        "\n",
        "back_im = back_im.crop((pixel_to_crop_left, \n",
        "                        pixel_to_crop_top, \n",
        "                        pixel_to_crop_right, \n",
        "                        pixel_to_crop_bottom))\n",
        "\n",
        "# Saving the picture and opening it up with the default OS utility to open .PNG files\n",
        "back_im.save('test.png', quality=100)\n",
        "back_im.show()"
      ],
      "execution_count": null,
      "outputs": [
        {
          "output_type": "stream",
          "text": [
            "(1468, 1468)\n"
          ],
          "name": "stdout"
        }
      ]
    }
  ]
}