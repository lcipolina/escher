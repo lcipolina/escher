{
 "cells": [
  {
   "cell_type": "code",
   "execution_count": 1,
   "metadata": {},
   "outputs": [],
   "source": [
    "import matplotlib.pyplot as plt\n",
    "import numpy as np\n",
    "from PIL import Image, ImageDraw, ImageFilter\n",
    "from imutils import rotate\n",
    "import cv2\n",
    "from imageio import imread\n"
   ]
  },
  {
   "cell_type": "markdown",
   "metadata": {},
   "source": [
    "## Setting generic parameters\n",
    "Rotation, scaling, folders, filenames"
   ]
  },
  {
   "cell_type": "code",
   "execution_count": 2,
   "metadata": {},
   "outputs": [],
   "source": [
    "ROTATION = 162.497433\n",
    "SCALING = 0.05576523\n",
    "\n",
    "folder = \"sc_test_pics/\"\n",
    "original_escher_file = \"original.png\"\n", #https://i.imgur.com/kzDuHaQ.jpg
    "to_paste_in_center_file = \"CoModGan_fine_tune1_square.png\""
   ]
  },
  {
   "cell_type": "markdown",
   "metadata": {},
   "source": [
    "## Loading the images"
   ]
  },
  {
   "cell_type": "code",
   "execution_count": 3,
   "metadata": {},
   "outputs": [],
   "source": [
    "im_original = Image.open(folder + original_escher_file)\n",
    "im_to_paste = Image.open(folder + to_paste_in_center_file)"
   ]
  },
  {
   "cell_type": "markdown",
   "metadata": {},
   "source": [
    "# 1) Pasting the content in the center to make a \"global\" picture"
   ]
  },
  {
   "cell_type": "markdown",
   "metadata": {},
   "source": [
    "## 1.1) Resizing pictures\n",
    "We need to do two things:\n",
    "1. Bring both pictures to the same scale of the \"original\" painting - this is because the scaling factor (0.055..) applies to pictures that are of the same size!\n",
    "2. Then apply the scaling factor to the picture we want to paste.\n",
    "\n",
    "### Assumption\n",
    "Note that in this script we ASSUME that the pictures have the same height. This is why the ratio is calculated starting from the \"size[1]\" element, which is the height."
   ]
  },
  {
   "cell_type": "code",
   "execution_count": 7,
   "metadata": {},
   "outputs": [],
   "source": [
    "# Note that the ratio is calculated on the basis of height\n",
    "ratio = SCALING * im_original.size[1]/im_to_paste.size[1]\n",
    "\n",
    "# PIL only rescales on the basis of a new target pixel size\n",
    "# So we have to multiply the ratio by the original size, and then cast to integer\n",
    "new_x = (int)(im_to_paste.size[0] * ratio)\n",
    "new_y = (int)(im_to_paste.size[1] * ratio)\n",
    "\n",
    "# Finally, we resize\n",
    "im_to_paste_scaled = im_to_paste.resize((new_x, new_y), \n",
    "                                        Image.ANTIALIAS)\n"
   ]
  },
  {
   "cell_type": "markdown",
   "metadata": {},
   "source": [
    "## 1.2) Rotation\n",
    "This is pretty straightforward, except for a small detail: PIL rotates pictures in a \"canvas\", which is then filled with colour (the default is black).\n",
    "\n",
    "So, I have hardcoded the grayish colour of the center of the painting, which is (226, 222, 218) in RGB terms.\n",
    "\n",
    "P.S.: In theory...the PIL rotate() function should recognize RGBA formats, i.e. with transparency - this is the reason for the extra entry in the tuple (226, 222, 218, 255) - but it doesn't seem to work...\n",
    "\n",
    "P.P.S.: the \"expand = 1\" instruction is there to extend the \"canvas\" when we rotate - otherwise, PIL would just crop the image according to the original dimensions of the picture we rotated!\n"
   ]
  },
  {
   "cell_type": "code",
   "execution_count": 25,
   "metadata": {},
   "outputs": [],
   "source": [
    "im_to_past_scaled_rotated = im_to_paste_scaled.rotate(-ROTATION, fillcolor=(226, 222, 218, 255), expand=1)"
   ]
  },
  {
   "cell_type": "markdown",
   "metadata": {},
   "source": [
    "## 1.3) Pasting\n",
    "Pasting is done natively by PIL - we just need to provide the (x, y) coordinates of the point in which we want to paste the picture, and we are done.\n",
    "\n",
    "### Important note\n",
    "the convention is that we paste the picture from its top-left corner. That is why there is an extra offset below:\n",
    "1. First we compute the center of the bigger picture (\"center_coordinate_x\" and \"center_coordinate_y\")\n",
    "2. But then we need to SUBTRACT half of the height and the width of the picture we want to paste in order to align the centers\n",
    "\n",
    "### Assumption\n",
    "We ASSUME that the centers of the two pictures are the same - this is not correct if the picture to paste is not symmetric, but the error is quite small in this case."
   ]
  },
  {
   "cell_type": "code",
   "execution_count": 26,
   "metadata": {},
   "outputs": [],
   "source": [
    "# Making a copy, to avoid screwing up the original which we will need later!\n",
    "back_im = im_original.copy()\n",
    "\n",
    "# Calculating the center coordinate of the bigger picture (the original)\n",
    "center_coordinate_x = (int)(im_original.size[0]/2)\n",
    "center_coordinate_y = (int)(im_original.size[1]/2)\n",
    "\n",
    "# Computing the offsets under the assumption that the center of the pictures are the same\n",
    "x_offset = (int)(im_to_past_scaled_rotated.size[0]/2)\n",
    "y_offset = (int)(im_to_past_scaled_rotated.size[1]/2)\n",
    "\n",
    "# Pasting!\n",
    "back_im.paste(im_to_past_scaled_rotated, (center_coordinate_x - x_offset, center_coordinate_y - y_offset))\n",
    "\n",
    "# Saving the picture and opening it up with the default OS utility to open .PNG files\n",
    "back_im.save('test.png', quality=100)\n",
    "back_im.show()"
   ]
  },
  {
   "cell_type": "markdown",
   "metadata": {},
   "source": [
    "# 2) Inverse transformation, i.e. \"Zooming in\"\n",
    "Same principles as before apply - except that this time we need to enlarge the \"host\" picture to zoom in!"
   ]
  },
  {
   "cell_type": "markdown",
   "metadata": {},
   "source": [
    "## 2.1) Resizing pictures\n",
    "Note that this time the order of the scaling is reversed! \n",
    "\n",
    "And we scale the \"original\" picture, not the one to paste."
   ]
  },
  {
   "cell_type": "code",
   "execution_count": 29,
   "metadata": {},
   "outputs": [],
   "source": [
    "# Once again, the ratio is calculated on the basis of height\n",
    "ratio = im_to_paste.size[1]/(SCALING * im_original.size[1])\n",
    "\n",
    "# But this time we are scaling the original picture to make it bigger (HUGE, in fact)\n",
    "new_x = (int)(im_original.size[0] * ratio)\n",
    "new_y = (int)(im_original.size[1] * ratio)\n",
    "\n",
    "im_to_host_scaled = im_original.resize((new_x, new_y), \n",
    "                                        Image.ANTIALIAS)"
   ]
  },
  {
   "cell_type": "markdown",
   "metadata": {},
   "source": [
    "## 2.2) Rotation\n",
    "This is exactly as before, except that we are scaling the picture to paste as we loaded it from the file - we are scaling the original painting, remember? "
   ]
  },
  {
   "cell_type": "code",
   "execution_count": 30,
   "metadata": {},
   "outputs": [],
   "source": [
    "im_to_paste_rotated = im_to_paste.rotate(-ROTATION, fillcolor=(226, 222, 218, 255), expand=1)"
   ]
  },
  {
   "cell_type": "markdown",
   "metadata": {},
   "source": [
    "## 2.3) Pasting\n",
    "Procedure and assumptions as per 1.3) before - however, we need an additional cropping stage.\n",
    "\n",
    "This is because the picture we are generating is HUGE - think 9k pixels each side. And also, we are only interested in a zoomed section, right?\n",
    "\n",
    "So, the PIL \"crop()\" function is here to help. We need to provide the pixel coordinates for the left, top, right, bottom limits for which we want to crop. Note that for left/right limits we will provide an X coordinate, and for top/bottom we will provide a Y coordinate.\n",
    "\n",
    "The limits, as you can see below, are determined on the basis of a \"crop_factor\". Fine-tune it to your preferences, remembering that with 0 you are not cropping anything, and with 0.5 you delete the entire picture!"
   ]
  },
  {
   "cell_type": "code",
   "execution_count": 49,
   "metadata": {},
   "outputs": [
    {
     "name": "stdout",
     "output_type": "stream",
     "text": [
      "(1468, 1468)\n"
     ]
    }
   ],
   "source": [
    "# This time, we start from the scaled-up version of the original\n",
    "back_im = im_to_host_scaled.copy()\n",
    "\n",
    "# Calculating the center coordinate of the bigger picture (the scaled-up original)\n",
    "center_coordinate_x = (int)(im_to_host_scaled.size[0]/2)\n",
    "center_coordinate_y = (int)(im_to_host_scaled.size[1]/2)\n",
    "\n",
    "# Computing the offsets under the assumption that the center of the pictures are the same\n",
    "x_offset = (int)(im_to_paste_rotated.size[0]/2)\n",
    "y_offset = (int)(im_to_paste_rotated.size[1]/2)\n",
    "\n",
    "# Pasting!\n",
    "back_im.paste(im_to_paste_rotated, (center_coordinate_x - x_offset, center_coordinate_y - y_offset))\n",
    "\n",
    "# The resulting picture is huge potentially, so we need to crop.\n",
    "crop_factor = 0.42\n",
    "\n",
    "height = back_im.size[1]\n",
    "width = back_im.size[0]\n",
    "pixel_to_crop_left = (int)(crop_factor * width)\n",
    "pixel_to_crop_top = (int)(crop_factor * height)\n",
    "pixel_to_crop_right = (int)((1 - crop_factor) * width)\n",
    "pixel_to_crop_bottom = (int)((1 - crop_factor) * height)\n",
    "\n",
    "back_im = back_im.crop((pixel_to_crop_left, \n",
    "                        pixel_to_crop_top, \n",
    "                        pixel_to_crop_right, \n",
    "                        pixel_to_crop_bottom))\n",
    "\n",
    "# Saving the picture and opening it up with the default OS utility to open .PNG files\n",
    "back_im.save('test.png', quality=100)\n",
    "back_im.show()"
   ]
  }
 ],
 "metadata": {
  "kernelspec": {
   "display_name": "Python 3",
   "language": "python",
   "name": "python3"
  },
  "language_info": {
   "codemirror_mode": {
    "name": "ipython",
    "version": 3
   },
   "file_extension": ".py",
   "mimetype": "text/x-python",
   "name": "python",
   "nbconvert_exporter": "python",
   "pygments_lexer": "ipython3",
   "version": "3.7.6"
  }
 },
 "nbformat": 4,
 "nbformat_minor": 4
}
